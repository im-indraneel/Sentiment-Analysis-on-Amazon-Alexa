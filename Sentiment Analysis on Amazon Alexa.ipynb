{
 "cells": [
  {
   "cell_type": "markdown",
   "metadata": {},
   "source": [
    "# Project: Sentimental Analysis using NLP, under Yhills Edutech Pvt. Ltd."
   ]
  },
  {
   "cell_type": "markdown",
   "metadata": {},
   "source": [
    "## Submitted by: Indraneel Mukherjee (Dayananda Sagar University,Bengaluru)"
   ]
  },
  {
   "cell_type": "markdown",
   "metadata": {},
   "source": [
    "### IMPORTING NECESSARY MODULES"
   ]
  },
  {
   "cell_type": "code",
   "execution_count": 89,
   "metadata": {
    "_cell_guid": "b1076dfc-b9ad-4769-8c92-a6c4dae69d19",
    "_uuid": "8f2839f25d086af736a60e9eeb907d3b93b6e0e5",
    "execution": {
     "iopub.execute_input": "2021-03-13T16:27:39.217519Z",
     "iopub.status.busy": "2021-03-13T16:27:39.216547Z",
     "iopub.status.idle": "2021-03-13T16:27:39.234404Z",
     "shell.execute_reply": "2021-03-13T16:27:39.235238Z"
    },
    "papermill": {
     "duration": 0.035859,
     "end_time": "2021-03-13T16:27:39.235853",
     "exception": false,
     "start_time": "2021-03-13T16:27:39.199994",
     "status": "completed"
    },
    "tags": []
   },
   "outputs": [],
   "source": [
    "import numpy as np \n",
    "import pandas as pd \n",
    "import matplotlib.pyplot as plt\n",
    "%matplotlib inline\n",
    "import seaborn as sns\n",
    "from bs4 import BeautifulSoup"
   ]
  },
  {
   "cell_type": "markdown",
   "metadata": {},
   "source": [
    "### IMPORTING DATASET"
   ]
  },
  {
   "cell_type": "code",
   "execution_count": 90,
   "metadata": {
    "execution": {
     "iopub.execute_input": "2021-03-13T16:27:39.271093Z",
     "iopub.status.busy": "2021-03-13T16:27:39.270285Z",
     "iopub.status.idle": "2021-03-13T16:27:47.294167Z",
     "shell.execute_reply": "2021-03-13T16:27:47.293549Z"
    },
    "papermill": {
     "duration": 8.043911,
     "end_time": "2021-03-13T16:27:47.294319",
     "exception": false,
     "start_time": "2021-03-13T16:27:39.250408",
     "status": "completed"
    },
    "scrolled": true,
    "tags": []
   },
   "outputs": [
    {
     "data": {
      "text/html": [
       "<div>\n",
       "<style scoped>\n",
       "    .dataframe tbody tr th:only-of-type {\n",
       "        vertical-align: middle;\n",
       "    }\n",
       "\n",
       "    .dataframe tbody tr th {\n",
       "        vertical-align: top;\n",
       "    }\n",
       "\n",
       "    .dataframe thead th {\n",
       "        text-align: right;\n",
       "    }\n",
       "</style>\n",
       "<table border=\"1\" class=\"dataframe\">\n",
       "  <thead>\n",
       "    <tr style=\"text-align: right;\">\n",
       "      <th></th>\n",
       "      <th>rating</th>\n",
       "      <th>date</th>\n",
       "      <th>variation</th>\n",
       "      <th>verified_reviews</th>\n",
       "      <th>feedback</th>\n",
       "    </tr>\n",
       "  </thead>\n",
       "  <tbody>\n",
       "    <tr>\n",
       "      <th>0</th>\n",
       "      <td>5</td>\n",
       "      <td>31-Jul-18</td>\n",
       "      <td>Charcoal Fabric</td>\n",
       "      <td>Love my Echo!</td>\n",
       "      <td>1</td>\n",
       "    </tr>\n",
       "    <tr>\n",
       "      <th>1</th>\n",
       "      <td>5</td>\n",
       "      <td>31-Jul-18</td>\n",
       "      <td>Charcoal Fabric</td>\n",
       "      <td>Loved it!</td>\n",
       "      <td>1</td>\n",
       "    </tr>\n",
       "    <tr>\n",
       "      <th>2</th>\n",
       "      <td>4</td>\n",
       "      <td>31-Jul-18</td>\n",
       "      <td>Walnut Finish</td>\n",
       "      <td>Sometimes while playing a game, you can answer...</td>\n",
       "      <td>1</td>\n",
       "    </tr>\n",
       "    <tr>\n",
       "      <th>3</th>\n",
       "      <td>5</td>\n",
       "      <td>31-Jul-18</td>\n",
       "      <td>Charcoal Fabric</td>\n",
       "      <td>I have had a lot of fun with this thing. My 4 ...</td>\n",
       "      <td>1</td>\n",
       "    </tr>\n",
       "    <tr>\n",
       "      <th>4</th>\n",
       "      <td>5</td>\n",
       "      <td>31-Jul-18</td>\n",
       "      <td>Charcoal Fabric</td>\n",
       "      <td>Music</td>\n",
       "      <td>1</td>\n",
       "    </tr>\n",
       "    <tr>\n",
       "      <th>...</th>\n",
       "      <td>...</td>\n",
       "      <td>...</td>\n",
       "      <td>...</td>\n",
       "      <td>...</td>\n",
       "      <td>...</td>\n",
       "    </tr>\n",
       "    <tr>\n",
       "      <th>3145</th>\n",
       "      <td>5</td>\n",
       "      <td>30-Jul-18</td>\n",
       "      <td>Black  Dot</td>\n",
       "      <td>Perfect for kids, adults and everyone in betwe...</td>\n",
       "      <td>1</td>\n",
       "    </tr>\n",
       "    <tr>\n",
       "      <th>3146</th>\n",
       "      <td>5</td>\n",
       "      <td>30-Jul-18</td>\n",
       "      <td>Black  Dot</td>\n",
       "      <td>Listening to music, searching locations, check...</td>\n",
       "      <td>1</td>\n",
       "    </tr>\n",
       "    <tr>\n",
       "      <th>3147</th>\n",
       "      <td>5</td>\n",
       "      <td>30-Jul-18</td>\n",
       "      <td>Black  Dot</td>\n",
       "      <td>I do love these things, i have them running my...</td>\n",
       "      <td>1</td>\n",
       "    </tr>\n",
       "    <tr>\n",
       "      <th>3148</th>\n",
       "      <td>5</td>\n",
       "      <td>30-Jul-18</td>\n",
       "      <td>White  Dot</td>\n",
       "      <td>Only complaint I have is that the sound qualit...</td>\n",
       "      <td>1</td>\n",
       "    </tr>\n",
       "    <tr>\n",
       "      <th>3149</th>\n",
       "      <td>4</td>\n",
       "      <td>29-Jul-18</td>\n",
       "      <td>Black  Dot</td>\n",
       "      <td>Good</td>\n",
       "      <td>1</td>\n",
       "    </tr>\n",
       "  </tbody>\n",
       "</table>\n",
       "<p>3150 rows × 5 columns</p>\n",
       "</div>"
      ],
      "text/plain": [
       "      rating       date         variation  \\\n",
       "0          5  31-Jul-18  Charcoal Fabric    \n",
       "1          5  31-Jul-18  Charcoal Fabric    \n",
       "2          4  31-Jul-18    Walnut Finish    \n",
       "3          5  31-Jul-18  Charcoal Fabric    \n",
       "4          5  31-Jul-18  Charcoal Fabric    \n",
       "...      ...        ...               ...   \n",
       "3145       5  30-Jul-18        Black  Dot   \n",
       "3146       5  30-Jul-18        Black  Dot   \n",
       "3147       5  30-Jul-18        Black  Dot   \n",
       "3148       5  30-Jul-18        White  Dot   \n",
       "3149       4  29-Jul-18        Black  Dot   \n",
       "\n",
       "                                       verified_reviews  feedback  \n",
       "0                                         Love my Echo!         1  \n",
       "1                                             Loved it!         1  \n",
       "2     Sometimes while playing a game, you can answer...         1  \n",
       "3     I have had a lot of fun with this thing. My 4 ...         1  \n",
       "4                                                 Music         1  \n",
       "...                                                 ...       ...  \n",
       "3145  Perfect for kids, adults and everyone in betwe...         1  \n",
       "3146  Listening to music, searching locations, check...         1  \n",
       "3147  I do love these things, i have them running my...         1  \n",
       "3148  Only complaint I have is that the sound qualit...         1  \n",
       "3149                                               Good         1  \n",
       "\n",
       "[3150 rows x 5 columns]"
      ]
     },
     "execution_count": 90,
     "metadata": {},
     "output_type": "execute_result"
    }
   ],
   "source": [
    "data = pd.read_csv(\"amazon_alexa.tsv\", sep='\\t')\n",
    "data"
   ]
  },
  {
   "cell_type": "markdown",
   "metadata": {},
   "source": [
    "### DATA PREPROCESSING & VISUALISATION"
   ]
  },
  {
   "cell_type": "code",
   "execution_count": 92,
   "metadata": {
    "execution": {
     "iopub.execute_input": "2021-03-13T16:27:47.637700Z",
     "iopub.status.busy": "2021-03-13T16:27:47.324855Z",
     "iopub.status.idle": "2021-03-13T16:27:47.652536Z",
     "shell.execute_reply": "2021-03-13T16:27:47.651955Z"
    },
    "papermill": {
     "duration": 0.34554,
     "end_time": "2021-03-13T16:27:47.652678",
     "exception": false,
     "start_time": "2021-03-13T16:27:47.307138",
     "status": "completed"
    },
    "tags": []
   },
   "outputs": [
    {
     "data": {
      "text/plain": [
       "rating              0\n",
       "date                0\n",
       "variation           0\n",
       "verified_reviews    0\n",
       "feedback            0\n",
       "dtype: int64"
      ]
     },
     "execution_count": 92,
     "metadata": {},
     "output_type": "execute_result"
    }
   ],
   "source": [
    "data.isnull().sum()"
   ]
  },
  {
   "cell_type": "code",
   "execution_count": 93,
   "metadata": {
    "execution": {
     "iopub.execute_input": "2021-03-13T16:27:48.002053Z",
     "iopub.status.busy": "2021-03-13T16:27:47.684503Z",
     "iopub.status.idle": "2021-03-13T16:27:48.435326Z",
     "shell.execute_reply": "2021-03-13T16:27:48.434615Z"
    },
    "papermill": {
     "duration": 0.769449,
     "end_time": "2021-03-13T16:27:48.435483",
     "exception": false,
     "start_time": "2021-03-13T16:27:47.666034",
     "status": "completed"
    },
    "tags": []
   },
   "outputs": [
    {
     "data": {
      "text/plain": [
       "rating              0\n",
       "date                0\n",
       "variation           0\n",
       "verified_reviews    0\n",
       "feedback            0\n",
       "dtype: int64"
      ]
     },
     "execution_count": 93,
     "metadata": {},
     "output_type": "execute_result"
    }
   ],
   "source": [
    "data=data.dropna()\n",
    "data.isnull().sum()"
   ]
  },
  {
   "cell_type": "code",
   "execution_count": 94,
   "metadata": {
    "scrolled": true
   },
   "outputs": [
    {
     "data": {
      "text/plain": [
       "(3150, 5)"
      ]
     },
     "execution_count": 94,
     "metadata": {},
     "output_type": "execute_result"
    }
   ],
   "source": [
    "data.shape"
   ]
  },
  {
   "cell_type": "code",
   "execution_count": 95,
   "metadata": {},
   "outputs": [
    {
     "name": "stdout",
     "output_type": "stream",
     "text": [
      "[5 4 3 2 1]\n"
     ]
    }
   ],
   "source": [
    "score_unique = data['rating'].unique()\n",
    "print(score_unique)"
   ]
  },
  {
   "cell_type": "code",
   "execution_count": 96,
   "metadata": {
    "execution": {
     "iopub.execute_input": "2021-03-13T16:27:48.506192Z",
     "iopub.status.busy": "2021-03-13T16:27:48.501015Z",
     "iopub.status.idle": "2021-03-13T16:27:48.704122Z",
     "shell.execute_reply": "2021-03-13T16:27:48.703473Z"
    },
    "papermill": {
     "duration": 0.253989,
     "end_time": "2021-03-13T16:27:48.704263",
     "exception": false,
     "start_time": "2021-03-13T16:27:48.450274",
     "status": "completed"
    },
    "tags": []
   },
   "outputs": [],
   "source": [
    "#   0-> NEGATIVE REVIEW\n",
    "#   1-> NEUTRAL REVIEW\n",
    "#   2-> POSTIVE REVIEW\n",
    "a=[]\n",
    "for i in data['rating']:\n",
    "    if i <3:                              \n",
    "        a.append(0)\n",
    "    if i==3:\n",
    "        a.append(1)\n",
    "    if i>3:\n",
    "        a.append(2)"
   ]
  },
  {
   "cell_type": "code",
   "execution_count": 97,
   "metadata": {},
   "outputs": [
    {
     "name": "stdout",
     "output_type": "stream",
     "text": [
      "Negative Reviews: 257\n",
      "Neutral Reviews: 152\n",
      "Positive Reviews: 2741\n"
     ]
    }
   ],
   "source": [
    "r_0, r_1, r_2 = 0, 0, 0\n",
    "for i in a:\n",
    "    if i == 0:\n",
    "        r_0 += 1\n",
    "    elif i == 1:\n",
    "        r_1 += 1\n",
    "    else:\n",
    "        r_2 += 1\n",
    "\n",
    "print('Negative Reviews:',r_0)\n",
    "print('Neutral Reviews:',r_1)\n",
    "print('Positive Reviews:',r_2)"
   ]
  },
  {
   "cell_type": "code",
   "execution_count": 98,
   "metadata": {
    "execution": {
     "iopub.execute_input": "2021-03-13T16:27:48.738843Z",
     "iopub.status.busy": "2021-03-13T16:27:48.738209Z",
     "iopub.status.idle": "2021-03-13T16:27:52.191203Z",
     "shell.execute_reply": "2021-03-13T16:27:52.190555Z"
    },
    "papermill": {
     "duration": 3.472218,
     "end_time": "2021-03-13T16:27:52.191341",
     "exception": false,
     "start_time": "2021-03-13T16:27:48.719123",
     "status": "completed"
    },
    "tags": []
   },
   "outputs": [
    {
     "name": "stderr",
     "output_type": "stream",
     "text": [
      "C:\\Users\\imgro\\anaconda3\\lib\\site-packages\\seaborn\\_decorators.py:36: FutureWarning: Pass the following variable as a keyword arg: x. From version 0.12, the only valid positional argument will be `data`, and passing other arguments without an explicit keyword will result in an error or misinterpretation.\n",
      "  warnings.warn(\n"
     ]
    },
    {
     "data": {
      "image/png": "[encoded data removed]",
      "text/plain": [
       "<Figure size 432x288 with 1 Axes>"
      ]
     },
     "metadata": {
      "needs_background": "light"
     },
     "output_type": "display_data"
    }
   ],
   "source": [
    "sns.countplot(a)\n",
    "plt.xlabel('Reviews', color = 'red')\n",
    "plt.ylabel('Count', color = 'red')\n",
    "plt.xticks([0,1,2],['Negative','Neutral','Positive'])\n",
    "plt.title('COUNT PLOT', color = 'r')\n",
    "plt.show()"
   ]
  },
  {
   "cell_type": "code",
   "execution_count": 99,
   "metadata": {
    "execution": {
     "iopub.execute_input": "2021-03-13T16:27:52.228983Z",
     "iopub.status.busy": "2021-03-13T16:27:52.228227Z",
     "iopub.status.idle": "2021-03-13T16:27:52.525964Z",
     "shell.execute_reply": "2021-03-13T16:27:52.525241Z"
    },
    "papermill": {
     "duration": 0.318919,
     "end_time": "2021-03-13T16:27:52.526112",
     "exception": false,
     "start_time": "2021-03-13T16:27:52.207193",
     "status": "completed"
    },
    "scrolled": true,
    "tags": []
   },
   "outputs": [
    {
     "data": {
      "text/html": [
       "<div>\n",
       "<style scoped>\n",
       "    .dataframe tbody tr th:only-of-type {\n",
       "        vertical-align: middle;\n",
       "    }\n",
       "\n",
       "    .dataframe tbody tr th {\n",
       "        vertical-align: top;\n",
       "    }\n",
       "\n",
       "    .dataframe thead th {\n",
       "        text-align: right;\n",
       "    }\n",
       "</style>\n",
       "<table border=\"1\" class=\"dataframe\">\n",
       "  <thead>\n",
       "    <tr style=\"text-align: right;\">\n",
       "      <th></th>\n",
       "      <th>reviews</th>\n",
       "      <th>verified_reviews</th>\n",
       "    </tr>\n",
       "  </thead>\n",
       "  <tbody>\n",
       "    <tr>\n",
       "      <th>0</th>\n",
       "      <td>2</td>\n",
       "      <td>Love my Echo!</td>\n",
       "    </tr>\n",
       "    <tr>\n",
       "      <th>1</th>\n",
       "      <td>2</td>\n",
       "      <td>Loved it!</td>\n",
       "    </tr>\n",
       "    <tr>\n",
       "      <th>2</th>\n",
       "      <td>2</td>\n",
       "      <td>Sometimes while playing a game, you can answer...</td>\n",
       "    </tr>\n",
       "    <tr>\n",
       "      <th>3</th>\n",
       "      <td>2</td>\n",
       "      <td>I have had a lot of fun with this thing. My 4 ...</td>\n",
       "    </tr>\n",
       "    <tr>\n",
       "      <th>4</th>\n",
       "      <td>2</td>\n",
       "      <td>Music</td>\n",
       "    </tr>\n",
       "    <tr>\n",
       "      <th>...</th>\n",
       "      <td>...</td>\n",
       "      <td>...</td>\n",
       "    </tr>\n",
       "    <tr>\n",
       "      <th>3145</th>\n",
       "      <td>2</td>\n",
       "      <td>Perfect for kids, adults and everyone in betwe...</td>\n",
       "    </tr>\n",
       "    <tr>\n",
       "      <th>3146</th>\n",
       "      <td>2</td>\n",
       "      <td>Listening to music, searching locations, check...</td>\n",
       "    </tr>\n",
       "    <tr>\n",
       "      <th>3147</th>\n",
       "      <td>2</td>\n",
       "      <td>I do love these things, i have them running my...</td>\n",
       "    </tr>\n",
       "    <tr>\n",
       "      <th>3148</th>\n",
       "      <td>2</td>\n",
       "      <td>Only complaint I have is that the sound qualit...</td>\n",
       "    </tr>\n",
       "    <tr>\n",
       "      <th>3149</th>\n",
       "      <td>2</td>\n",
       "      <td>Good</td>\n",
       "    </tr>\n",
       "  </tbody>\n",
       "</table>\n",
       "<p>3150 rows × 2 columns</p>\n",
       "</div>"
      ],
      "text/plain": [
       "      reviews                                   verified_reviews\n",
       "0           2                                      Love my Echo!\n",
       "1           2                                          Loved it!\n",
       "2           2  Sometimes while playing a game, you can answer...\n",
       "3           2  I have had a lot of fun with this thing. My 4 ...\n",
       "4           2                                              Music\n",
       "...       ...                                                ...\n",
       "3145        2  Perfect for kids, adults and everyone in betwe...\n",
       "3146        2  Listening to music, searching locations, check...\n",
       "3147        2  I do love these things, i have them running my...\n",
       "3148        2  Only complaint I have is that the sound qualit...\n",
       "3149        2                                               Good\n",
       "\n",
       "[3150 rows x 2 columns]"
      ]
     },
     "execution_count": 99,
     "metadata": {},
     "output_type": "execute_result"
    }
   ],
   "source": [
    "data['reviews']=a\n",
    "#data\n",
    "final_dataset = data[['reviews','verified_reviews']]\n",
    "final_dataset"
   ]
  },
  {
   "cell_type": "code",
   "execution_count": 100,
   "metadata": {
    "execution": {
     "iopub.execute_input": "2021-03-13T16:27:52.564895Z",
     "iopub.status.busy": "2021-03-13T16:27:52.564247Z",
     "iopub.status.idle": "2021-03-13T16:27:52.602794Z",
     "shell.execute_reply": "2021-03-13T16:27:52.601774Z"
    },
    "papermill": {
     "duration": 0.06016,
     "end_time": "2021-03-13T16:27:52.602941",
     "exception": false,
     "start_time": "2021-03-13T16:27:52.542781",
     "status": "completed"
    },
    "tags": []
   },
   "outputs": [
    {
     "data": {
      "text/plain": [
       "(2741, 257)"
      ]
     },
     "execution_count": 100,
     "metadata": {},
     "output_type": "execute_result"
    }
   ],
   "source": [
    "data_p=final_dataset[data['reviews']==2]\n",
    "data_n=final_dataset[data['reviews']==0]\n",
    "len(data_p), len(data_n)"
   ]
  },
  {
   "cell_type": "code",
   "execution_count": 101,
   "metadata": {
    "execution": {
     "iopub.execute_input": "2021-03-13T16:27:52.645015Z",
     "iopub.status.busy": "2021-03-13T16:27:52.644154Z",
     "iopub.status.idle": "2021-03-13T16:27:52.653374Z",
     "shell.execute_reply": "2021-03-13T16:27:52.652758Z"
    },
    "papermill": {
     "duration": 0.034092,
     "end_time": "2021-03-13T16:27:52.653525",
     "exception": false,
     "start_time": "2021-03-13T16:27:52.619433",
     "status": "completed"
    },
    "tags": []
   },
   "outputs": [
    {
     "data": {
      "text/plain": [
       "(100, 100)"
      ]
     },
     "execution_count": 101,
     "metadata": {},
     "output_type": "execute_result"
    }
   ],
   "source": [
    "datap = data_p.iloc[np.random.randint(1,2741,100), :]\n",
    "datan = data_n.iloc[np.random.randint(1, 257,100), :]\n",
    "len(datan), len(datap)"
   ]
  },
  {
   "cell_type": "code",
   "execution_count": 102,
   "metadata": {
    "execution": {
     "iopub.execute_input": "2021-03-13T16:27:52.718098Z",
     "iopub.status.busy": "2021-03-13T16:27:52.696002Z",
     "iopub.status.idle": "2021-03-13T16:27:52.722428Z",
     "shell.execute_reply": "2021-03-13T16:27:52.723006Z"
    },
    "papermill": {
     "duration": 0.052498,
     "end_time": "2021-03-13T16:27:52.723175",
     "exception": false,
     "start_time": "2021-03-13T16:27:52.670677",
     "status": "completed"
    },
    "tags": []
   },
   "outputs": [
    {
     "data": {
      "text/plain": [
       "200"
      ]
     },
     "execution_count": 102,
     "metadata": {},
     "output_type": "execute_result"
    }
   ],
   "source": [
    "data = pd.concat([datap,datan])\n",
    "len(data)"
   ]
  },
  {
   "cell_type": "code",
   "execution_count": 103,
   "metadata": {
    "execution": {
     "iopub.execute_input": "2021-03-13T16:27:52.761247Z",
     "iopub.status.busy": "2021-03-13T16:27:52.760643Z",
     "iopub.status.idle": "2021-03-13T16:27:52.773854Z",
     "shell.execute_reply": "2021-03-13T16:27:52.774377Z"
    },
    "papermill": {
     "duration": 0.034064,
     "end_time": "2021-03-13T16:27:52.774563",
     "exception": false,
     "start_time": "2021-03-13T16:27:52.740499",
     "status": "completed"
    },
    "tags": []
   },
   "outputs": [],
   "source": [
    "c=[]\n",
    "for i in data['reviews']:\n",
    "    if i==0:\n",
    "        c.append(0)\n",
    "    if i==2:\n",
    "        c.append(1)\n",
    "data['reviews']=c"
   ]
  },
  {
   "cell_type": "code",
   "execution_count": 104,
   "metadata": {
    "execution": {
     "iopub.execute_input": "2021-03-13T16:27:52.813343Z",
     "iopub.status.busy": "2021-03-13T16:27:52.812696Z",
     "iopub.status.idle": "2021-03-13T16:27:52.931829Z",
     "shell.execute_reply": "2021-03-13T16:27:52.932370Z"
    },
    "papermill": {
     "duration": 0.140594,
     "end_time": "2021-03-13T16:27:52.932569",
     "exception": false,
     "start_time": "2021-03-13T16:27:52.791975",
     "status": "completed"
    },
    "scrolled": true,
    "tags": []
   },
   "outputs": [
    {
     "name": "stderr",
     "output_type": "stream",
     "text": [
      "C:\\Users\\imgro\\anaconda3\\lib\\site-packages\\seaborn\\_decorators.py:36: FutureWarning: Pass the following variable as a keyword arg: x. From version 0.12, the only valid positional argument will be `data`, and passing other arguments without an explicit keyword will result in an error or misinterpretation.\n",
      "  warnings.warn(\n"
     ]
    },
    {
     "data": {
      "image/png": "[encoded data removed]",
      "text/plain": [
       "<Figure size 432x288 with 1 Axes>"
      ]
     },
     "metadata": {
      "needs_background": "light"
     },
     "output_type": "display_data"
    }
   ],
   "source": [
    "sns.countplot(data['reviews'])\n",
    "plt.show()"
   ]
  },
  {
   "cell_type": "code",
   "execution_count": 105,
   "metadata": {
    "execution": {
     "iopub.execute_input": "2021-03-13T16:27:52.976139Z",
     "iopub.status.busy": "2021-03-13T16:27:52.975221Z",
     "iopub.status.idle": "2021-03-13T16:28:06.765174Z",
     "shell.execute_reply": "2021-03-13T16:28:06.764583Z"
    },
    "papermill": {
     "duration": 13.812836,
     "end_time": "2021-03-13T16:28:06.765326",
     "exception": false,
     "start_time": "2021-03-13T16:27:52.952490",
     "status": "completed"
    },
    "tags": []
   },
   "outputs": [
    {
     "data": {
      "text/html": [
       "<div>\n",
       "<style scoped>\n",
       "    .dataframe tbody tr th:only-of-type {\n",
       "        vertical-align: middle;\n",
       "    }\n",
       "\n",
       "    .dataframe tbody tr th {\n",
       "        vertical-align: top;\n",
       "    }\n",
       "\n",
       "    .dataframe thead th {\n",
       "        text-align: right;\n",
       "    }\n",
       "</style>\n",
       "<table border=\"1\" class=\"dataframe\">\n",
       "  <thead>\n",
       "    <tr style=\"text-align: right;\">\n",
       "      <th></th>\n",
       "      <th>reviews</th>\n",
       "      <th>review</th>\n",
       "    </tr>\n",
       "  </thead>\n",
       "  <tbody>\n",
       "    <tr>\n",
       "      <th>977</th>\n",
       "      <td>1</td>\n",
       "      <td>Nice product A+</td>\n",
       "    </tr>\n",
       "    <tr>\n",
       "      <th>3058</th>\n",
       "      <td>1</td>\n",
       "      <td>I'm obsessed with Alexa. She tells me the weat...</td>\n",
       "    </tr>\n",
       "    <tr>\n",
       "      <th>35</th>\n",
       "      <td>1</td>\n",
       "      <td>I bought this to compare the speaker quality t...</td>\n",
       "    </tr>\n",
       "    <tr>\n",
       "      <th>206</th>\n",
       "      <td>1</td>\n",
       "      <td>We are still discovering all that the Echo can...</td>\n",
       "    </tr>\n",
       "    <tr>\n",
       "      <th>1859</th>\n",
       "      <td>1</td>\n",
       "      <td>Great product and fast shipping. Thank you</td>\n",
       "    </tr>\n",
       "  </tbody>\n",
       "</table>\n",
       "</div>"
      ],
      "text/plain": [
       "      reviews                                             review\n",
       "977         1                                    Nice product A+\n",
       "3058        1  I'm obsessed with Alexa. She tells me the weat...\n",
       "35          1  I bought this to compare the speaker quality t...\n",
       "206         1  We are still discovering all that the Echo can...\n",
       "1859        1         Great product and fast shipping. Thank you"
      ]
     },
     "execution_count": 105,
     "metadata": {},
     "output_type": "execute_result"
    }
   ],
   "source": [
    "def strip_html(text):\n",
    "    soup = BeautifulSoup(text, \"html.parser\")\n",
    "    return soup.get_text()\n",
    "data['review'] = data['verified_reviews'].apply(strip_html)\n",
    "\n",
    "data=data.drop('verified_reviews',axis=1)\n",
    "\n",
    "data.head()"
   ]
  },
  {
   "cell_type": "markdown",
   "metadata": {},
   "source": [
    "### MODEL BUILDING"
   ]
  },
  {
   "cell_type": "code",
   "execution_count": 106,
   "metadata": {
    "execution": {
     "iopub.execute_input": "2021-03-13T16:28:06.822582Z",
     "iopub.status.busy": "2021-03-13T16:28:06.821370Z",
     "iopub.status.idle": "2021-03-13T16:28:08.280602Z",
     "shell.execute_reply": "2021-03-13T16:28:08.279914Z"
    },
    "papermill": {
     "duration": 1.490321,
     "end_time": "2021-03-13T16:28:08.280749",
     "exception": false,
     "start_time": "2021-03-13T16:28:06.790428",
     "status": "completed"
    },
    "tags": []
   },
   "outputs": [
    {
     "data": {
      "text/html": [
       "<div>\n",
       "<style scoped>\n",
       "    .dataframe tbody tr th:only-of-type {\n",
       "        vertical-align: middle;\n",
       "    }\n",
       "\n",
       "    .dataframe tbody tr th {\n",
       "        vertical-align: top;\n",
       "    }\n",
       "\n",
       "    .dataframe thead th {\n",
       "        text-align: right;\n",
       "    }\n",
       "</style>\n",
       "<table border=\"1\" class=\"dataframe\">\n",
       "  <thead>\n",
       "    <tr style=\"text-align: right;\">\n",
       "      <th></th>\n",
       "      <th>reviews</th>\n",
       "      <th>review</th>\n",
       "    </tr>\n",
       "  </thead>\n",
       "  <tbody>\n",
       "    <tr>\n",
       "      <th>977</th>\n",
       "      <td>1</td>\n",
       "      <td>Nice product A</td>\n",
       "    </tr>\n",
       "    <tr>\n",
       "      <th>3058</th>\n",
       "      <td>1</td>\n",
       "      <td>Im obsessed with Alexa She tells me the weathe...</td>\n",
       "    </tr>\n",
       "    <tr>\n",
       "      <th>35</th>\n",
       "      <td>1</td>\n",
       "      <td>I bought this to compare the speaker quality t...</td>\n",
       "    </tr>\n",
       "    <tr>\n",
       "      <th>206</th>\n",
       "      <td>1</td>\n",
       "      <td>We are still discovering all that the Echo can do</td>\n",
       "    </tr>\n",
       "    <tr>\n",
       "      <th>1859</th>\n",
       "      <td>1</td>\n",
       "      <td>Great product and fast shipping Thank you</td>\n",
       "    </tr>\n",
       "    <tr>\n",
       "      <th>2750</th>\n",
       "      <td>1</td>\n",
       "      <td>these are additional alexa based devices to ma...</td>\n",
       "    </tr>\n",
       "    <tr>\n",
       "      <th>2677</th>\n",
       "      <td>1</td>\n",
       "      <td>Small convenient and dependable This dot is a ...</td>\n",
       "    </tr>\n",
       "    <tr>\n",
       "      <th>2502</th>\n",
       "      <td>1</td>\n",
       "      <td>What can I say Well I’m a  paranoid IT person ...</td>\n",
       "    </tr>\n",
       "    <tr>\n",
       "      <th>1791</th>\n",
       "      <td>1</td>\n",
       "      <td>This is very hard to review because I am part ...</td>\n",
       "    </tr>\n",
       "    <tr>\n",
       "      <th>710</th>\n",
       "      <td>1</td>\n",
       "      <td>I love it wife hates it</td>\n",
       "    </tr>\n",
       "    <tr>\n",
       "      <th>1907</th>\n",
       "      <td>1</td>\n",
       "      <td>Love all the cool thing I can do</td>\n",
       "    </tr>\n",
       "    <tr>\n",
       "      <th>2529</th>\n",
       "      <td>1</td>\n",
       "      <td>I love being able to control lights doors and ...</td>\n",
       "    </tr>\n",
       "    <tr>\n",
       "      <th>478</th>\n",
       "      <td>1</td>\n",
       "      <td>Love it Though wish it was portable</td>\n",
       "    </tr>\n",
       "    <tr>\n",
       "      <th>1469</th>\n",
       "      <td>1</td>\n",
       "      <td>Unit is working great but it is a true PIA tha...</td>\n",
       "    </tr>\n",
       "    <tr>\n",
       "      <th>1081</th>\n",
       "      <td>1</td>\n",
       "      <td>I love this clock I just have to tell it to se...</td>\n",
       "    </tr>\n",
       "    <tr>\n",
       "      <th>96</th>\n",
       "      <td>1</td>\n",
       "      <td>Love it  am using it strictly for music now an...</td>\n",
       "    </tr>\n",
       "    <tr>\n",
       "      <th>2316</th>\n",
       "      <td>1</td>\n",
       "      <td>Great easy to set upA little difficult to navi...</td>\n",
       "    </tr>\n",
       "    <tr>\n",
       "      <th>91</th>\n",
       "      <td>1</td>\n",
       "      <td>The speaker sounds really good</td>\n",
       "    </tr>\n",
       "    <tr>\n",
       "      <th>2230</th>\n",
       "      <td>1</td>\n",
       "      <td>Works great</td>\n",
       "    </tr>\n",
       "    <tr>\n",
       "      <th>171</th>\n",
       "      <td>1</td>\n",
       "      <td>Super easy set up and am loving our new Echo</td>\n",
       "    </tr>\n",
       "  </tbody>\n",
       "</table>\n",
       "</div>"
      ],
      "text/plain": [
       "      reviews                                             review\n",
       "977         1                                     Nice product A\n",
       "3058        1  Im obsessed with Alexa She tells me the weathe...\n",
       "35          1  I bought this to compare the speaker quality t...\n",
       "206         1  We are still discovering all that the Echo can do\n",
       "1859        1          Great product and fast shipping Thank you\n",
       "2750        1  these are additional alexa based devices to ma...\n",
       "2677        1  Small convenient and dependable This dot is a ...\n",
       "2502        1  What can I say Well I’m a  paranoid IT person ...\n",
       "1791        1  This is very hard to review because I am part ...\n",
       "710         1                            I love it wife hates it\n",
       "1907        1                   Love all the cool thing I can do\n",
       "2529        1  I love being able to control lights doors and ...\n",
       "478         1                Love it Though wish it was portable\n",
       "1469        1  Unit is working great but it is a true PIA tha...\n",
       "1081        1  I love this clock I just have to tell it to se...\n",
       "96          1  Love it  am using it strictly for music now an...\n",
       "2316        1  Great easy to set upA little difficult to navi...\n",
       "91          1                     The speaker sounds really good\n",
       "2230        1                                        Works great\n",
       "171         1       Super easy set up and am loving our new Echo"
      ]
     },
     "execution_count": 106,
     "metadata": {},
     "output_type": "execute_result"
    }
   ],
   "source": [
    "import nltk  #Natural Language Processing Toolkit\n",
    "def punc_clean(text):\n",
    "    import string as st\n",
    "    a=[w for w in text if w not in st.punctuation]\n",
    "    return ''.join(a)\n",
    "data['review'] = data['review'].apply(punc_clean)\n",
    "data.head(20)"
   ]
  },
  {
   "cell_type": "code",
   "execution_count": 107,
   "metadata": {
    "execution": {
     "iopub.execute_input": "2021-03-13T16:28:08.340787Z",
     "iopub.status.busy": "2021-03-13T16:28:08.340120Z",
     "iopub.status.idle": "2021-03-13T16:28:18.825059Z",
     "shell.execute_reply": "2021-03-13T16:28:18.824303Z"
    },
    "papermill": {
     "duration": 10.518179,
     "end_time": "2021-03-13T16:28:18.825205",
     "exception": false,
     "start_time": "2021-03-13T16:28:08.307026",
     "status": "completed"
    },
    "tags": []
   },
   "outputs": [],
   "source": [
    "def remove_stopword(text):\n",
    "    stopword=nltk.corpus.stopwords.words('english')\n",
    "    stopword.remove('not')\n",
    "    a=[w for w in nltk.word_tokenize(text) if w not in stopword]\n",
    "    return ' '.join(a)\n",
    "data['review'] = data['review'].apply(remove_stopword)"
   ]
  },
  {
   "cell_type": "code",
   "execution_count": 108,
   "metadata": {
    "execution": {
     "iopub.execute_input": "2021-03-13T16:28:18.921507Z",
     "iopub.status.busy": "2021-03-13T16:28:18.916495Z",
     "iopub.status.idle": "2021-03-13T16:28:21.553576Z",
     "shell.execute_reply": "2021-03-13T16:28:21.553032Z"
    },
    "papermill": {
     "duration": 2.703145,
     "end_time": "2021-03-13T16:28:21.553726",
     "exception": false,
     "start_time": "2021-03-13T16:28:18.850581",
     "status": "completed"
    },
    "tags": []
   },
   "outputs": [],
   "source": [
    "from sklearn.feature_extraction.text import TfidfVectorizer\n",
    "\n",
    "vectr = TfidfVectorizer(ngram_range=(1,2),min_df=1)\n",
    "vectr.fit(data['review'])\n",
    "\n",
    "vect_X = vectr.transform(data['review'])"
   ]
  },
  {
   "cell_type": "code",
   "execution_count": 109,
   "metadata": {
    "execution": {
     "iopub.execute_input": "2021-03-13T16:28:21.612076Z",
     "iopub.status.busy": "2021-03-13T16:28:21.611368Z",
     "iopub.status.idle": "2021-03-13T16:28:22.028403Z",
     "shell.execute_reply": "2021-03-13T16:28:22.029297Z"
    },
    "papermill": {
     "duration": 0.44834,
     "end_time": "2021-03-13T16:28:22.029590",
     "exception": false,
     "start_time": "2021-03-13T16:28:21.581250",
     "status": "completed"
    },
    "scrolled": true,
    "tags": []
   },
   "outputs": [
    {
     "data": {
      "text/plain": [
       "99.5"
      ]
     },
     "execution_count": 109,
     "metadata": {},
     "output_type": "execute_result"
    }
   ],
   "source": [
    "from sklearn.linear_model import LogisticRegression\n",
    "\n",
    "model = LogisticRegression()\n",
    "\n",
    "clf=model.fit(vect_X,data['reviews'])\n",
    "clf.score(vect_X,data['reviews'])*100"
   ]
  },
  {
   "cell_type": "markdown",
   "metadata": {},
   "source": [
    "### PREDICTION"
   ]
  },
  {
   "cell_type": "code",
   "execution_count": 110,
   "metadata": {
    "execution": {
     "iopub.execute_input": "2021-03-13T16:28:22.140180Z",
     "iopub.status.busy": "2021-03-13T16:28:22.139557Z",
     "iopub.status.idle": "2021-03-13T16:28:22.142422Z",
     "shell.execute_reply": "2021-03-13T16:28:22.142902Z"
    },
    "papermill": {
     "duration": 0.062393,
     "end_time": "2021-03-13T16:28:22.143073",
     "exception": false,
     "start_time": "2021-03-13T16:28:22.080680",
     "status": "completed"
    },
    "tags": []
   },
   "outputs": [
    {
     "data": {
      "text/plain": [
       "array([0], dtype=int64)"
      ]
     },
     "execution_count": 110,
     "metadata": {},
     "output_type": "execute_result"
    }
   ],
   "source": [
    "clf.predict(vectr.transform([\"Stopped working after 2 weeks ,didn't follow commands!? Really fun when it was working?\"]))"
   ]
  },
  {
   "cell_type": "code",
   "execution_count": 111,
   "metadata": {
    "execution": {
     "iopub.execute_input": "2021-03-13T16:28:22.201709Z",
     "iopub.status.busy": "2021-03-13T16:28:22.201077Z",
     "iopub.status.idle": "2021-03-13T16:28:22.207320Z",
     "shell.execute_reply": "2021-03-13T16:28:22.208108Z"
    },
    "papermill": {
     "duration": 0.036995,
     "end_time": "2021-03-13T16:28:22.208319",
     "exception": false,
     "start_time": "2021-03-13T16:28:22.171324",
     "status": "completed"
    },
    "tags": []
   },
   "outputs": [
    {
     "data": {
      "text/plain": [
       "array([1], dtype=int64)"
      ]
     },
     "execution_count": 111,
     "metadata": {},
     "output_type": "execute_result"
    }
   ],
   "source": [
    "clf.predict(vectr.transform([\"Easy to set up.\"]))"
   ]
  },
  {
   "cell_type": "code",
   "execution_count": null,
   "metadata": {},
   "outputs": [],
   "source": []
  }
 ],
 "metadata": {
  "kernelspec": {
   "display_name": "Python 3",
   "language": "python",
   "name": "python3"
  },
  "language_info": {
   "codemirror_mode": {
    "name": "ipython",
    "version": 3
   },
   "file_extension": ".py",
   "mimetype": "text/x-python",
   "name": "python",
   "nbconvert_exporter": "python",
   "pygments_lexer": "ipython3",
   "version": "3.8.8"
  },
  "papermill": {
   "default_parameters": {},
   "duration": 50.126058,
   "end_time": "2021-03-13T16:28:23.248091",
   "environment_variables": {},
   "exception": null,
   "input_path": "__notebook__.ipynb",
   "output_path": "__notebook__.ipynb",
   "parameters": {},
   "start_time": "2021-03-13T16:27:33.122033",
   "version": "2.2.2"
  }
 },
 "nbformat": 4,
 "nbformat_minor": 4
}
