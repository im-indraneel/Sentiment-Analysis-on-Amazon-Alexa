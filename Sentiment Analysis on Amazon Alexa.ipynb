{
 "cells": [
  {
   "cell_type": "markdown",
   "id": "d42af45e",
   "metadata": {},
   "source": [
    "## Sentiment Analysis on Amazon Alexa"
   ]
  },
  {
   "cell_type": "code",
   "execution_count": 44,
   "id": "e7500ab9",
   "metadata": {},
   "outputs": [],
   "source": [
    "import pandas as pd\n",
    "import matplotlib.pyplot as plt\n",
    "\n",
    "from tensorflow.keras.preprocessing.text import Tokenizer\n",
    "from tensorflow.keras.preprocessing.sequence import pad_sequences\n",
    "from tensorflow.keras.models import Sequential\n",
    "from tensorflow.keras.layers import LSTM,Dense, Dropout, SpatialDropout1D\n",
    "from tensorflow.keras.layers import Embedding\n",
    "\n",
    "amazon_alexa_df = pd.read_csv(\"amazon_alexa.tsv\", sep='\\t')"
   ]
  },
  {
   "cell_type": "code",
   "execution_count": 45,
   "id": "2ebbbd23",
   "metadata": {},
   "outputs": [
    {
     "data": {
      "text/html": [
       "<div>\n",
       "<style scoped>\n",
       "    .dataframe tbody tr th:only-of-type {\n",
       "        vertical-align: middle;\n",
       "    }\n",
       "\n",
       "    .dataframe tbody tr th {\n",
       "        vertical-align: top;\n",
       "    }\n",
       "\n",
       "    .dataframe thead th {\n",
       "        text-align: right;\n",
       "    }\n",
       "</style>\n",
       "<table border=\"1\" class=\"dataframe\">\n",
       "  <thead>\n",
       "    <tr style=\"text-align: right;\">\n",
       "      <th></th>\n",
       "      <th>rating</th>\n",
       "      <th>date</th>\n",
       "      <th>variation</th>\n",
       "      <th>verified_reviews</th>\n",
       "      <th>feedback</th>\n",
       "    </tr>\n",
       "  </thead>\n",
       "  <tbody>\n",
       "    <tr>\n",
       "      <th>0</th>\n",
       "      <td>5</td>\n",
       "      <td>31-Jul-18</td>\n",
       "      <td>Charcoal Fabric</td>\n",
       "      <td>Love my Echo!</td>\n",
       "      <td>1</td>\n",
       "    </tr>\n",
       "    <tr>\n",
       "      <th>1</th>\n",
       "      <td>5</td>\n",
       "      <td>31-Jul-18</td>\n",
       "      <td>Charcoal Fabric</td>\n",
       "      <td>Loved it!</td>\n",
       "      <td>1</td>\n",
       "    </tr>\n",
       "    <tr>\n",
       "      <th>2</th>\n",
       "      <td>4</td>\n",
       "      <td>31-Jul-18</td>\n",
       "      <td>Walnut Finish</td>\n",
       "      <td>Sometimes while playing a game, you can answer...</td>\n",
       "      <td>1</td>\n",
       "    </tr>\n",
       "    <tr>\n",
       "      <th>3</th>\n",
       "      <td>5</td>\n",
       "      <td>31-Jul-18</td>\n",
       "      <td>Charcoal Fabric</td>\n",
       "      <td>I have had a lot of fun with this thing. My 4 ...</td>\n",
       "      <td>1</td>\n",
       "    </tr>\n",
       "    <tr>\n",
       "      <th>4</th>\n",
       "      <td>5</td>\n",
       "      <td>31-Jul-18</td>\n",
       "      <td>Charcoal Fabric</td>\n",
       "      <td>Music</td>\n",
       "      <td>1</td>\n",
       "    </tr>\n",
       "  </tbody>\n",
       "</table>\n",
       "</div>"
      ],
      "text/plain": [
       "   rating       date         variation  \\\n",
       "0       5  31-Jul-18  Charcoal Fabric    \n",
       "1       5  31-Jul-18  Charcoal Fabric    \n",
       "2       4  31-Jul-18    Walnut Finish    \n",
       "3       5  31-Jul-18  Charcoal Fabric    \n",
       "4       5  31-Jul-18  Charcoal Fabric    \n",
       "\n",
       "                                    verified_reviews  feedback  \n",
       "0                                      Love my Echo!         1  \n",
       "1                                          Loved it!         1  \n",
       "2  Sometimes while playing a game, you can answer...         1  \n",
       "3  I have had a lot of fun with this thing. My 4 ...         1  \n",
       "4                                              Music         1  "
      ]
     },
     "execution_count": 45,
     "metadata": {},
     "output_type": "execute_result"
    }
   ],
   "source": [
    "amazon_alexa_df.head()"
   ]
  },
  {
   "cell_type": "code",
   "execution_count": 46,
   "id": "13bdb033",
   "metadata": {},
   "outputs": [
    {
     "data": {
      "text/plain": [
       "Index(['rating', 'date', 'variation', 'verified_reviews', 'feedback'], dtype='object')"
      ]
     },
     "execution_count": 46,
     "metadata": {},
     "output_type": "execute_result"
    }
   ],
   "source": [
    "amazon_alexa_df.columns"
   ]
  },
  {
   "cell_type": "code",
   "execution_count": 47,
   "id": "92a7ed66",
   "metadata": {},
   "outputs": [
    {
     "name": "stdout",
     "output_type": "stream",
     "text": [
      "(3150, 2)\n"
     ]
    },
    {
     "data": {
      "text/html": [
       "<div>\n",
       "<style scoped>\n",
       "    .dataframe tbody tr th:only-of-type {\n",
       "        vertical-align: middle;\n",
       "    }\n",
       "\n",
       "    .dataframe tbody tr th {\n",
       "        vertical-align: top;\n",
       "    }\n",
       "\n",
       "    .dataframe thead th {\n",
       "        text-align: right;\n",
       "    }\n",
       "</style>\n",
       "<table border=\"1\" class=\"dataframe\">\n",
       "  <thead>\n",
       "    <tr style=\"text-align: right;\">\n",
       "      <th></th>\n",
       "      <th>rating</th>\n",
       "      <th>verified_reviews</th>\n",
       "    </tr>\n",
       "  </thead>\n",
       "  <tbody>\n",
       "    <tr>\n",
       "      <th>0</th>\n",
       "      <td>5</td>\n",
       "      <td>Love my Echo!</td>\n",
       "    </tr>\n",
       "    <tr>\n",
       "      <th>1</th>\n",
       "      <td>5</td>\n",
       "      <td>Loved it!</td>\n",
       "    </tr>\n",
       "    <tr>\n",
       "      <th>2</th>\n",
       "      <td>4</td>\n",
       "      <td>Sometimes while playing a game, you can answer...</td>\n",
       "    </tr>\n",
       "    <tr>\n",
       "      <th>3</th>\n",
       "      <td>5</td>\n",
       "      <td>I have had a lot of fun with this thing. My 4 ...</td>\n",
       "    </tr>\n",
       "    <tr>\n",
       "      <th>4</th>\n",
       "      <td>5</td>\n",
       "      <td>Music</td>\n",
       "    </tr>\n",
       "    <tr>\n",
       "      <th>5</th>\n",
       "      <td>5</td>\n",
       "      <td>I received the echo as a gift. I needed anothe...</td>\n",
       "    </tr>\n",
       "    <tr>\n",
       "      <th>6</th>\n",
       "      <td>3</td>\n",
       "      <td>Without having a cellphone, I cannot use many ...</td>\n",
       "    </tr>\n",
       "    <tr>\n",
       "      <th>7</th>\n",
       "      <td>5</td>\n",
       "      <td>I think this is the 5th one I've purchased. I'...</td>\n",
       "    </tr>\n",
       "    <tr>\n",
       "      <th>8</th>\n",
       "      <td>5</td>\n",
       "      <td>looks great</td>\n",
       "    </tr>\n",
       "    <tr>\n",
       "      <th>9</th>\n",
       "      <td>5</td>\n",
       "      <td>Love it! I’ve listened to songs I haven’t hear...</td>\n",
       "    </tr>\n",
       "    <tr>\n",
       "      <th>10</th>\n",
       "      <td>5</td>\n",
       "      <td>I sent it to my 85 year old Dad, and he talks ...</td>\n",
       "    </tr>\n",
       "    <tr>\n",
       "      <th>11</th>\n",
       "      <td>5</td>\n",
       "      <td>I love it! Learning knew things with it eveyda...</td>\n",
       "    </tr>\n",
       "    <tr>\n",
       "      <th>12</th>\n",
       "      <td>5</td>\n",
       "      <td>I purchased this for my mother who is having k...</td>\n",
       "    </tr>\n",
       "    <tr>\n",
       "      <th>13</th>\n",
       "      <td>5</td>\n",
       "      <td>Love, Love, Love!!</td>\n",
       "    </tr>\n",
       "    <tr>\n",
       "      <th>14</th>\n",
       "      <td>5</td>\n",
       "      <td>Just what I expected....</td>\n",
       "    </tr>\n",
       "    <tr>\n",
       "      <th>15</th>\n",
       "      <td>5</td>\n",
       "      <td>I love it, wife hates it.</td>\n",
       "    </tr>\n",
       "    <tr>\n",
       "      <th>16</th>\n",
       "      <td>5</td>\n",
       "      <td>Really happy with this purchase.  Great speake...</td>\n",
       "    </tr>\n",
       "    <tr>\n",
       "      <th>17</th>\n",
       "      <td>5</td>\n",
       "      <td>We have only been using Alexa for a couple of ...</td>\n",
       "    </tr>\n",
       "    <tr>\n",
       "      <th>18</th>\n",
       "      <td>5</td>\n",
       "      <td>We love the size of the 2nd generation echo. S...</td>\n",
       "    </tr>\n",
       "    <tr>\n",
       "      <th>19</th>\n",
       "      <td>4</td>\n",
       "      <td>I liked the original Echo. This is the same bu...</td>\n",
       "    </tr>\n",
       "  </tbody>\n",
       "</table>\n",
       "</div>"
      ],
      "text/plain": [
       "    rating                                   verified_reviews\n",
       "0        5                                      Love my Echo!\n",
       "1        5                                          Loved it!\n",
       "2        4  Sometimes while playing a game, you can answer...\n",
       "3        5  I have had a lot of fun with this thing. My 4 ...\n",
       "4        5                                              Music\n",
       "5        5  I received the echo as a gift. I needed anothe...\n",
       "6        3  Without having a cellphone, I cannot use many ...\n",
       "7        5  I think this is the 5th one I've purchased. I'...\n",
       "8        5                                        looks great\n",
       "9        5  Love it! I’ve listened to songs I haven’t hear...\n",
       "10       5  I sent it to my 85 year old Dad, and he talks ...\n",
       "11       5  I love it! Learning knew things with it eveyda...\n",
       "12       5  I purchased this for my mother who is having k...\n",
       "13       5                                 Love, Love, Love!!\n",
       "14       5                           Just what I expected....\n",
       "15       5                          I love it, wife hates it.\n",
       "16       5  Really happy with this purchase.  Great speake...\n",
       "17       5  We have only been using Alexa for a couple of ...\n",
       "18       5  We love the size of the 2nd generation echo. S...\n",
       "19       4  I liked the original Echo. This is the same bu..."
      ]
     },
     "execution_count": 47,
     "metadata": {},
     "output_type": "execute_result"
    }
   ],
   "source": [
    "amazon_alexa_df = amazon_alexa_df[['rating','verified_reviews']]\n",
    "print(amazon_alexa_df.shape)\n",
    "amazon_alexa_df.head(20)"
   ]
  },
  {
   "cell_type": "code",
   "execution_count": 48,
   "id": "1c73ff70",
   "metadata": {},
   "outputs": [
    {
     "name": "stdout",
     "output_type": "stream",
     "text": [
      "(3150, 2)\n"
     ]
    },
    {
     "data": {
      "text/html": [
       "<div>\n",
       "<style scoped>\n",
       "    .dataframe tbody tr th:only-of-type {\n",
       "        vertical-align: middle;\n",
       "    }\n",
       "\n",
       "    .dataframe tbody tr th {\n",
       "        vertical-align: top;\n",
       "    }\n",
       "\n",
       "    .dataframe thead th {\n",
       "        text-align: right;\n",
       "    }\n",
       "</style>\n",
       "<table border=\"1\" class=\"dataframe\">\n",
       "  <thead>\n",
       "    <tr style=\"text-align: right;\">\n",
       "      <th></th>\n",
       "      <th>rating</th>\n",
       "      <th>verified_reviews</th>\n",
       "    </tr>\n",
       "  </thead>\n",
       "  <tbody>\n",
       "    <tr>\n",
       "      <th>0</th>\n",
       "      <td>5</td>\n",
       "      <td>Love my Echo!</td>\n",
       "    </tr>\n",
       "    <tr>\n",
       "      <th>1</th>\n",
       "      <td>5</td>\n",
       "      <td>Loved it!</td>\n",
       "    </tr>\n",
       "    <tr>\n",
       "      <th>2</th>\n",
       "      <td>4</td>\n",
       "      <td>Sometimes while playing a game, you can answer...</td>\n",
       "    </tr>\n",
       "    <tr>\n",
       "      <th>3</th>\n",
       "      <td>5</td>\n",
       "      <td>I have had a lot of fun with this thing. My 4 ...</td>\n",
       "    </tr>\n",
       "    <tr>\n",
       "      <th>4</th>\n",
       "      <td>5</td>\n",
       "      <td>Music</td>\n",
       "    </tr>\n",
       "    <tr>\n",
       "      <th>5</th>\n",
       "      <td>5</td>\n",
       "      <td>I received the echo as a gift. I needed anothe...</td>\n",
       "    </tr>\n",
       "    <tr>\n",
       "      <th>6</th>\n",
       "      <td>3</td>\n",
       "      <td>Without having a cellphone, I cannot use many ...</td>\n",
       "    </tr>\n",
       "    <tr>\n",
       "      <th>7</th>\n",
       "      <td>5</td>\n",
       "      <td>I think this is the 5th one I've purchased. I'...</td>\n",
       "    </tr>\n",
       "    <tr>\n",
       "      <th>8</th>\n",
       "      <td>5</td>\n",
       "      <td>looks great</td>\n",
       "    </tr>\n",
       "    <tr>\n",
       "      <th>9</th>\n",
       "      <td>5</td>\n",
       "      <td>Love it! I’ve listened to songs I haven’t hear...</td>\n",
       "    </tr>\n",
       "    <tr>\n",
       "      <th>10</th>\n",
       "      <td>5</td>\n",
       "      <td>I sent it to my 85 year old Dad, and he talks ...</td>\n",
       "    </tr>\n",
       "    <tr>\n",
       "      <th>11</th>\n",
       "      <td>5</td>\n",
       "      <td>I love it! Learning knew things with it eveyda...</td>\n",
       "    </tr>\n",
       "    <tr>\n",
       "      <th>12</th>\n",
       "      <td>5</td>\n",
       "      <td>I purchased this for my mother who is having k...</td>\n",
       "    </tr>\n",
       "    <tr>\n",
       "      <th>13</th>\n",
       "      <td>5</td>\n",
       "      <td>Love, Love, Love!!</td>\n",
       "    </tr>\n",
       "    <tr>\n",
       "      <th>14</th>\n",
       "      <td>5</td>\n",
       "      <td>Just what I expected....</td>\n",
       "    </tr>\n",
       "    <tr>\n",
       "      <th>15</th>\n",
       "      <td>5</td>\n",
       "      <td>I love it, wife hates it.</td>\n",
       "    </tr>\n",
       "    <tr>\n",
       "      <th>16</th>\n",
       "      <td>5</td>\n",
       "      <td>Really happy with this purchase.  Great speake...</td>\n",
       "    </tr>\n",
       "    <tr>\n",
       "      <th>17</th>\n",
       "      <td>5</td>\n",
       "      <td>We have only been using Alexa for a couple of ...</td>\n",
       "    </tr>\n",
       "    <tr>\n",
       "      <th>18</th>\n",
       "      <td>5</td>\n",
       "      <td>We love the size of the 2nd generation echo. S...</td>\n",
       "    </tr>\n",
       "    <tr>\n",
       "      <th>19</th>\n",
       "      <td>4</td>\n",
       "      <td>I liked the original Echo. This is the same bu...</td>\n",
       "    </tr>\n",
       "  </tbody>\n",
       "</table>\n",
       "</div>"
      ],
      "text/plain": [
       "    rating                                   verified_reviews\n",
       "0        5                                      Love my Echo!\n",
       "1        5                                          Loved it!\n",
       "2        4  Sometimes while playing a game, you can answer...\n",
       "3        5  I have had a lot of fun with this thing. My 4 ...\n",
       "4        5                                              Music\n",
       "5        5  I received the echo as a gift. I needed anothe...\n",
       "6        3  Without having a cellphone, I cannot use many ...\n",
       "7        5  I think this is the 5th one I've purchased. I'...\n",
       "8        5                                        looks great\n",
       "9        5  Love it! I’ve listened to songs I haven’t hear...\n",
       "10       5  I sent it to my 85 year old Dad, and he talks ...\n",
       "11       5  I love it! Learning knew things with it eveyda...\n",
       "12       5  I purchased this for my mother who is having k...\n",
       "13       5                                 Love, Love, Love!!\n",
       "14       5                           Just what I expected....\n",
       "15       5                          I love it, wife hates it.\n",
       "16       5  Really happy with this purchase.  Great speake...\n",
       "17       5  We have only been using Alexa for a couple of ...\n",
       "18       5  We love the size of the 2nd generation echo. S...\n",
       "19       4  I liked the original Echo. This is the same bu..."
      ]
     },
     "execution_count": 48,
     "metadata": {},
     "output_type": "execute_result"
    }
   ],
   "source": [
    "amazon_alexa_df = amazon_alexa_df[amazon_alexa_df['rating'] != '4 and 5']\n",
    "print(amazon_alexa_df.shape)\n",
    "amazon_alexa_df.head(20)"
   ]
  },
  {
   "cell_type": "code",
   "execution_count": 49,
   "id": "670d5f4c",
   "metadata": {},
   "outputs": [
    {
     "data": {
      "text/plain": [
       "                                                                                                                                                                                                                                                                                                                                                                                                                                                                                                                                                                                                                                                                                                79\n",
       "Love it!                                                                                                                                                                                                                                                                                                                                                                                                                                                                                                                                                                                                                                                                                        22\n",
       "Love it                                                                                                                                                                                                                                                                                                                                                                                                                                                                                                                                                                                                                                                                                         19\n",
       "Great product                                                                                                                                                                                                                                                                                                                                                                                                                                                                                                                                                                                                                                                                                   11\n",
       "Great                                                                                                                                                                                                                                                                                                                                                                                                                                                                                                                                                                                                                                                                                            9\n",
       "                                                                                                                                                                                                                                                                                                                                                                                                                                                                                                                                                                                                                                                                                                ..\n",
       "Having the large screen really majes this an enjoyable experience. Only thing it’s missing is youtube.                                                                                                                                                                                                                                                                                                                                                                                                                                                                                                                                                                                           1\n",
       "Honestly it's no different from the Echo dots I already own,  other then occasionally seeing the lyrics to a song I'm listening too i really don't see the difference.                                                                                                                                                                                                                                                                                                                                                                                                                                                                                                                           1\n",
       "Easy to install and use.                                                                                                                                                                                                                                                                                                                                                                                                                                                                                                                                                                                                                                                                         1\n",
       "It does everything the Echo does, and more. Although I haven't and probably won't use the video functions. I had hoped that the display would be allow for more customization. It does not and is very limited. I would like the clock and weather to display in large text all of the time, it only displays in very small text. It also always has a line that says &#34;Tell Alexa to do this, or that&#34;, tips at the bottom of the screen. I would like to see that go away, but it won't. Sound quality is good, not as good as the big Echo, but good enough. I bought it on sale and think I got value for what I paid. I would have been disappointment had I of paid full price.     1\n",
       "Super good!                                                                                                                                                                                                                                                                                                                                                                                                                                                                                                                                                                                                                                                                                      1\n",
       "Name: verified_reviews, Length: 2301, dtype: int64"
      ]
     },
     "execution_count": 49,
     "metadata": {},
     "output_type": "execute_result"
    }
   ],
   "source": [
    "amazon_alexa_df[\"verified_reviews\"].value_counts()"
   ]
  },
  {
   "cell_type": "code",
   "execution_count": 50,
   "id": "6340bf9a",
   "metadata": {},
   "outputs": [
    {
     "data": {
      "text/plain": [
       "(array([0, 0, 1, ..., 0, 0, 1], dtype=int64),\n",
       " Int64Index([5, 4, 3, 2, 1], dtype='int64'))"
      ]
     },
     "execution_count": 50,
     "metadata": {},
     "output_type": "execute_result"
    }
   ],
   "source": [
    "sentiment_label = amazon_alexa_df.rating.factorize()\n",
    "sentiment_label"
   ]
  },
  {
   "cell_type": "code",
   "execution_count": 56,
   "id": "1bb117cc",
   "metadata": {},
   "outputs": [],
   "source": [
    "amazon_alexa = amazon_alexa_df.verified_reviews.values\n",
    "tokenizer = Tokenizer(num_words=5000)\n",
    "tokenizer.fit_on_texts(amazon_alexa)\n",
    "vocab_size = len(tokenizer.word_index) + 1\n",
    "encoded_docs = tokenizer.texts_to_sequences(amazon_alexa)\n",
    "padded_sequence = pad_sequences(encoded_docs, maxlen=20)"
   ]
  },
  {
   "cell_type": "code",
   "execution_count": 57,
   "id": "69ed76e5",
   "metadata": {},
   "outputs": [
    {
     "name": "stdout",
     "output_type": "stream",
     "text": [
      "{'the': 1, 'i': 2, 'to': 3, 'it': 4, 'and': 5, 'a': 6, 'my': 7, 'is': 8, 'for': 9, 'love': 10, 'echo': 11, 'this': 12, 'with': 13, 'of': 14, 'have': 15, 'great': 16, 'in': 17, 'that': 18, 'but': 19, 'alexa': 20, 'on': 21, 'so': 22, 'music': 23, 'not': 24, 'you': 25, 'like': 26, 'as': 27, 'up': 28, 'use': 29, 'can': 30, 'was': 31, 'we': 32, 'works': 33, 'all': 34, 'very': 35, 'one': 36, 'sound': 37, 'easy': 38, 'be': 39, 'just': 40, 'more': 41, 'set': 42, 'when': 43, 'me': 44, 'dot': 45, 'do': 46, 'good': 47, 'an': 48, 'are': 49, 'or': 50, 'product': 51, 'amazon': 52, 'has': 53, 'get': 54, 'speaker': 55, 'if': 56, 'she': 57, '34': 58, 'what': 59, 'would': 60, 'home': 61, 'play': 62, 'device': 63, 'had': 64, 'from': 65, 'still': 66, \"it's\": 67, 'am': 68, 'our': 69, 'time': 70, 'really': 71, 'will': 72, 'bought': 73, 'at': 74, 'other': 75, 'no': 76, 'smart': 77, 'out': 78, 'better': 79, 'new': 80, 'than': 81, 'now': 82, 'much': 83, 'prime': 84, 'also': 85, 'quality': 86, 'well': 87, 'fun': 88, 'work': 89, 'day': 90, \"i'm\": 91, 'her': 92, 'show': 93, 'does': 94, 'only': 95, 'how': 96, 'things': 97, 'far': 98, 'about': 99, 'off': 100, 'even': 101, 'got': 102, 'having': 103, 'devices': 104, 'room': 105, 'thing': 106, 'they': 107, 'plus': 108, 'tv': 109, 'everything': 110, 'house': 111, 'which': 112, 'it’s': 113, 'screen': 114, 'there': 115, 'because': 116, 'alarm': 117, 'ask': 118, 'some': 119, 'any': 120, 'learning': 121, 'need': 122, 'little': 123, 'them': 124, 'buy': 125, 'able': 126, 'its': 127, 'your': 128, 'weather': 129, 'want': 130, \"don't\": 131, 'been': 132, 'could': 133, 'using': 134, 'voice': 135, 'spot': 136, 'nice': 137, 'clock': 138, 'lights': 139, 'hub': 140, 'turn': 141, 'used': 142, 'know': 143, 'video': 144, 'see': 145, 'price': 146, 'many': 147, 'too': 148, 'getting': 149, 'amazing': 150, 'phone': 151, 'these': 152, 'another': 153, 'without': 154, 'think': 155, 'purchase': 156, 'by': 157, 'light': 158, 'listen': 159, 'sounds': 160, 'bedroom': 161, 'i’m': 162, 'app': 163, 'awesome': 164, 'best': 165, 'lot': 166, 'purchased': 167, 'first': 168, 'setup': 169, 'wish': 170, 'being': 171, 'control': 172, 'perfect': 173, 'two': 174, 'way': 175, 'connect': 176, 'playing': 177, '2': 178, 'working': 179, 'through': 180, 'then': 181, 'say': 182, \"can't\": 183, 'while': 184, 'questions': 185, \"doesn't\": 186, 'family': 187, 'features': 188, 'speakers': 189, 'tell': 190, 'make': 191, 'going': 192, 'every': 193, 'sure': 194, 'refurbished': 195, 'same': 196, 'did': 197, 'pretty': 198, 'over': 199, 'happy': 200, 'small': 201, 'dots': 202, 'volume': 203, 'kitchen': 204, 'after': 205, 'fire': 206, 'bluetooth': 207, 'size': 208, 'find': 209, 'item': 210, 'etc': 211, 'watch': 212, 'news': 213, 'times': 214, 'expected': 215, 'connected': 216, 'stick': 217, 'though': 218, 'go': 219, 'listening': 220, '3': 221, 'few': 222, 'try': 223, 'should': 224, 'google': 225, 'thought': 226, 'why': 227, 'old': 228, 'gift': 229, 'hear': 230, 'fine': 231, 'cool': 232, 'something': 233, 'he': 234, 'wanted': 235, 'around': 236, 'recommend': 237, 'yet': 238, 'original': 239, 'definitely': 240, 'loves': 241, 'enjoy': 242, 'feature': 243, 'commands': 244, 'radio': 245, 'shows': 246, 'made': 247, 'don’t': 248, 'different': 249, 'money': 250, 'anything': 251, 'right': 252, 'back': 253, 'second': 254, 'doesn’t': 255, 'add': 256, 'wifi': 257, 'worked': 258, 'into': 259, 'never': 260, 'enough': 261, 'songs': 262, 'since': 263, 'full': 264, 'makes': 265, 'issues': 266, 'loved': 267, 'understand': 268, '2nd': 269, 'setting': 270, 'simple': 271, 'information': 272, 'problems': 273, 'seems': 274, 'both': 275, 'own': 276, 'already': 277, '5': 278, 'sometimes': 279, 'most': 280, 'help': 281, 'take': 282, 'disappointed': 283, 'again': 284, \"i've\": 285, 'trying': 286, 'big': 287, 'morning': 288, 'favorite': 289, 'call': 290, 'kids': 291, 'skills': 292, 'worth': 293, 'absolutely': 294, 'bulb': 295, 'where': 296, 'learn': 297, 'generation': 298, \"didn't\": 299, 'night': 300, 'problem': 301, 'living': 302, 'who': 303, 'come': 304, 'instructions': 305, 'fact': 306, 'part': 307, 'internet': 308, 'bulbs': 309, 'reason': 310, 'wife': 311, 'needs': 312, 'long': 313, 'unit': 314, 'command': 315, 'always': 316, 'youtube': 317, 'looks': 318, 'look': 319, \"haven't\": 320, 'came': 321, 'asking': 322, 'built': 323, 'wonderful': 324, 'issue': 325, 'wake': 326, 'useful': 327, 'apps': 328, 'hue': 329, '4': 330, 'plays': 331, 'list': 332, 'enjoying': 333, 'once': 334, 'us': 335, 'answer': 336, 'keep': 337, 'year': 338, 'song': 339, 'deal': 340, 'daughter': 341, 'excellent': 342, 'addition': 343, 'access': 344, 'buying': 345, 'however': 346, 'clear': 347, 'easier': 348, 'thank': 349, 'super': 350, 'easily': 351, 'else': 352, 'stars': 353, 'looking': 354, 'talking': 355, 'system': 356, 'options': 357, 'added': 358, 'away': 359, 'games': 360, 'almost': 361, 'forward': 362, 'read': 363, 'son': 364, 'may': 365, 'pleased': 366, 'alarms': 367, 'people': 368, 'especially': 369, 'cable': 370, 'give': 371, 'fast': 372, 'ring': 373, 'bit': 374, 'done': 375, 'plug': 376, 'actually': 377, 'perfectly': 378, 'technology': 379, 'movies': 380, 'each': 381, 'their': 382, 'needed': 383, 'sleep': 384, 'his': 385, 'said': 386, 'gen': 387, 'asked': 388, 'down': 389, 'gets': 390, 'trouble': 391, 'free': 392, 'quite': 393, 'whole': 394, 'stuff': 395, 'before': 396, 'audio': 397, 'convenient': 398, 'says': 399, 'found': 400, 'echos': 401, 'computer': 402, 'spotify': 403, 'husband': 404, 'must': 405, 'such': 406, 'minutes': 407, 'were': 408, 'respond': 409, 'life': 410, 'probably': 411, 'didn’t': 412, 'products': 413, 'install': 414, 'loud': 415, 'cannot': 416, 'couple': 417, 'adding': 418, 'hard': 419, 'capabilities': 420, 'tech': 421, 'tried': 422, 'tells': 423, 'impressed': 424, 'connection': 425, 'ease': 426, 'talk': 427, 'order': 428, 'updates': 429, 'glad': 430, 'camera': 431, 'can’t': 432, 'throughout': 433, 'instead': 434, 'overall': 435, 'rooms': 436, 'figure': 437, 'ever': 438, 'during': 439, 'soon': 440, 'bad': 441, 'user': 442, 'ability': 443, 'start': 444, 'months': 445, 'highly': 446, 'white': 447, 'firestick': 448, 'lists': 449, 'multiple': 450, 'available': 451, '1': 452, 'videos': 453, 'next': 454, 'timers': 455, 'drop': 456, 'timer': 457, 'nothing': 458, 'days': 459, 'uses': 460, 'difference': 461, 'support': 462, 'sale': 463, 'helpful': 464, 'calls': 465, 'plugged': 466, 'live': 467, 'week': 468, 'office': 469, 'watching': 470, 'along': 471, 'daily': 472, 'feel': 473, 'less': 474, 'remote': 475, '10': 476, 'gives': 477, 'several': 478, 'bass': 479, \"couldn't\": 480, 'books': 481, 'put': 482, 'gave': 483, 'went': 484, 'took': 485, 'lyrics': 486, 'received': 487, 'household': 488, 'pay': 489, 'power': 490, 'exactly': 491, 'myself': 492, 'half': 493, 'change': 494, 'lots': 495, 'mostly': 496, 'brand': 497, 'goes': 498, 'answers': 499, 'reminders': 500, 'assistant': 501, \"that's\": 502, 'thermostat': 503, 'paid': 504, 'extra': 505, 'check': 506, 'started': 507, 'shopping': 508, 'decided': 509, 'program': 510, 'handy': 511, 'weeks': 512, 'hours': 513, 'option': 514, 'functionality': 515, 'ones': 516, 'star': 517, 'friend': 518, 'netflix': 519, 'chat': 520, 'cameras': 521, 'philips': 522, 'response': 523, 'top': 524, 'advertised': 525, \"won't\": 526, 'keeps': 527, 'here': 528, 'apple': 529, 'satisfied': 530, 'account': 531, 'pandora': 532, 'huge': 533, 'bose': 534, 'touch': 535, 'loving': 536, 'friendly': 537, 'blue': 538, 'future': 539, '100': 540, 'smaller': 541, 'movie': 542, 'turns': 543, 'often': 544, 'stand': 545, 'lol': 546, 'bed': 547, 'door': 548, 'display': 549, 'regular': 550, 'recipes': 551, 'wait': 552, 'heard': 553, 'liked': 554, 'mainly': 555, 'fantastic': 556, 'limited': 557, 'hooked': 558, 'personal': 559, 'doing': 560, 'surprised': 561, 'request': 562, 'service': 563, 'someone': 564, 'told': 565, 'return': 566, 'link': 567, 'security': 568, 'alone': 569, 'excited': 570, 'download': 571, 'basic': 572, 'haven’t': 573, '1st': 574, 'speak': 575, 'hoping': 576, 'additional': 577, 'those': 578, 'annoying': 579, 'audible': 580, 'external': 581, 'won’t': 582, 'piece': 583, \"wasn't\": 584, 'responds': 585, 'figured': 586, 'cord': 587, 'louder': 588, 'ordered': 589, 'nightstand': 590, 'bedside': 591, 'face': 592, 'although': 593, 'question': 594, 'i’ve': 595, \"we're\": 596, 'included': 597, 'number': 598, 'group': 599, 'real': 600, 'him': 601, 'thanks': 602, 'played': 603, 'playlist': 604, 'responsive': 605, 'terrible': 606, 'making': 607, 'job': 608, 'everyone': 609, 'three': 610, 'quick': 611, 'connecting': 612, 'plugs': 613, 'value': 614, 'mom': 615, 'jokes': 616, \"wouldn't\": 617, 'unless': 618, 'extremely': 619, 'totally': 620, 'experience': 621, 'mini': 622, 'longer': 623, '3rd': 624, 'finally': 625, 'ok': 626, 'via': 627, 'wrong': 628, 'u': 629, 'seem': 630, 'mother': 631, 'buttons': 632, 'package': 633, 'cell': 634, 'friends': 635, 'stations': 636, 'plan': 637, 'functions': 638, 'except': 639, 'kind': 640, 'words': 641, 'ready': 642, 'stopped': 643, 'stop': 644, 'entertainment': 645, 'later': 646, 'checking': 647, 'complaints': 648, 'range': 649, 'third': 650, 'channels': 651, \"i'd\": 652, 'fix': 653, 'supposed': 654, 'least': 655, 'low': 656, 'items': 657, 'constantly': 658, 'toy': 659, 'miss': 660, 'difficult': 661, 'programs': 662, 'flash': 663, 'briefing': 664, 'frustrating': 665, 'immediately': 666, 'birthday': 667, 'base': 668, 'lamp': 669, 'name': 670, 'comes': 671, 'battery': 672, 'wireless': 673, 'across': 674, 'streaming': 675, 'process': 676, 'settings': 677, 'high': 678, 'regret': 679, 'replace': 680, \"isn't\": 681, 'tooth': 682, 'quickly': 683, 'yes': 684, 'step': 685, 'might': 686, 'update': 687, 'helps': 688, 'useless': 689, 'box': 690, 'rather': 691, 'years': 692, 'skill': 693, 'picture': 694, 'sent': 695, 'understands': 696, 'saying': 697, 'sync': 698, 'purchasing': 699, 'cheap': 700, 'running': 701, 'others': 702, 't': 703, 'alexia': 704, 'thinking': 705, 'traffic': 706, 'within': 707, 'outside': 708, 'fault': 709, 'info': 710, 'clearly': 711, 'isn’t': 712, 'dislike': 713, 'older': 714, 'today': 715, \"i'll\": 716, 'until': 717, 'fan': 718, 'given': 719, 'turned': 720, 'upstairs': 721, 'last': 722, 'parents': 723, '20': 724, 'between': 725, 'error': 726, 'station': 727, 'takes': 728, 'bridge': 729, 'hook': 730, 'dad': 731, 'knew': 732, 'expecting': 733, 'allow': 734, 'siri': 735, 'you’re': 736, 'compatible': 737, 'savvy': 738, 'hearing': 739, 'gadget': 740, 'lives': 741, 'ways': 742, 'upgraded': 743, 'couldn’t': 744, 'simply': 745, 'kindle': 746, 'search': 747, 'beginning': 748, 'replaced': 749, 'requests': 750, 'telling': 751, 'kasa': 752, 'automation': 753, 'let': 754, 'intercom': 755, 'unfortunately': 756, 'enjoyed': 757, 'recognition': 758, 'ago': 759, 'cooking': 760, 'replacement': 761, 'reset': 762, 'adapter': 763, 'save': 764, 'tool': 765, 'completely': 766, 'pick': 767, 'interface': 768, 'seeing': 769, 'point': 770, '30': 771, 'space': 772, 'anyone': 773, 'idea': 774, 'correctly': 775, 'improvement': 776, 'color': 777, 'choices': 778, \"what's\": 779, 'podcasts': 780, 'continue': 781, 'operate': 782, 'units': 783, 'wasn’t': 784, 'digital': 785, 'function': 786, 'discovered': 787, 'grandkids': 788, 'stops': 789, 'open': 790, 'grocery': 791, 'finding': 792, 'language': 793, 'itself': 794, 'large': 795, 'otherwise': 796, 'intuitive': 797, 'either': 798, 'maybe': 799, 'installation': 800, \"we've\": 801, 'due': 802, 'gotten': 803, 'amazed': 804, 'potential': 805, 'arrived': 806, 'bathroom': 807, 'calling': 808, 'wi': 809, 'fi': 810, 'stream': 811, 'word': 812, 'software': 813, 'improve': 814, 'larger': 815, 'run': 816, \"you're\": 817, 'microphone': 818, 'stereo': 819, 'middle': 820, 'black': 821, 'realize': 822, 'reviews': 823, 'slow': 824, 'cost': 825, 'world': 826, 'front': 827, 'selection': 828, 'hands': 829, 'please': 830, 'oh': 831, 'hulu': 832, 'laugh': 833, 'specific': 834, 'follow': 835, 'review': 836, 'ended': 837, 'sister': 838, 'expect': 839, 'considering': 840, 'primarily': 841, 'lighting': 842, 'believe': 843, 'unlimited': 844, 'contact': 845, 'entire': 846, 'outlet': 847, '7': 848, 'happier': 849, 'turning': 850, 'recognize': 851, 'particular': 852, 'design': 853, 'various': 854, 'helped': 855, 'returning': 856, 'speaking': 857, 'fairly': 858, 'missing': 859, 'upgrade': 860, 'compact': 861, 'waste': 862, 'trek': 863, 'dont': 864, 'research': 865, 'outstanding': 866, 'sonos': 867, 'customer': 868, 'guy': 869, 'knows': 870, 'lower': 871, 'expensive': 872, 'complaint': 873, 'ai': 874, 'type': 875, 'gone': 876, 'version': 877, 'together': 878, 'linked': 879, 'doorbell': 880, 'searching': 881, 'basically': 882, 'receive': 883, 'stay': 884, 'network': 885, 'notifications': 886, 'delivered': 887, 'create': 888, 'lock': 889, 'blast': 890, 'learns': 891, 'random': 892, 'cook': 893, 'guess': 894, 'major': 895, 'counter': 896, 'answering': 897, 'controls': 898, 'television': 899, 'clarity': 900, 'delivery': 901, 'called': 902, 'busy': 903, 'line': 904, 'example': 905, '6': 906, 'four': 907, 'wall': 908, 'default': 909, 'schedule': 910, 'repeat': 911, 'equipment': 912, 'minor': 913, 'services': 914, 'sleeping': 915, 'unplugged': 916, 'school': 917, 'condition': 918, 'slightly': 919, 'hears': 920, 'tap': 921, 'side': 922, 'forget': 923, 'source': 924, 'inside': 925, 'course': 926, 'returned': 927, 'looked': 928, 'accent': 929, 'button': 930, 'message': 931, 'become': 932, 'close': 933, '99': 934, 'decent': 935, \"she's\": 936, 'cam': 937, 'shut': 938, 'saw': 939, 'based': 940, 'surprisingly': 941, 'calendar': 942, 'short': 943, 'currently': 944, 'cards': 945, 'y': 946, 'reading': 947, 'directions': 948, 'unable': 949, 'downstairs': 950, 'roku': 951, 'offer': 952, 'controlling': 953, 'enjoys': 954, 'standard': 955, 'previous': 956, 'playlists': 957, 'improved': 958, 'loads': 959, 'rate': 960, 'place': 961, 'phenomenal': 962, 'joke': 963, 'discount': 964, 'iphone': 965, 'trivia': 966, 'grandchildren': 967, 'bonus': 968, 'cute': 969, 'red': 970, 'initially': 971, 'in”': 972, 'spend': 973, 'expectations': 974, 'remember': 975, 'local': 976, 'bt': 977, 'suggestions': 978, 'discovering': 979, 'packaging': 980, 'randomly': 981, 'penny': 982, 'funny': 983, 'move': 984, 'biggest': 985, 'moment': 986, 'decide': 987, 'apartment': 988, 'communicate': 989, 'entertaining': 990, 'party': 991, 'mine': 992, 'man': 993, 'month': 994, 'poor': 995, 'five': 996, 'hope': 997, 'complain': 998, 'area': 999, 'spent': 1000, 'worried': 1001, 'variety': 1002, 'mean': 1003, 'purchases': 1004, 'honestly': 1005, 'including': 1006, 'okay': 1007, 'online': 1008, 'there’s': 1009, 'colors': 1010, 'activated': 1011, 'convenience': 1012, 'sits': 1013, 'desk': 1014, 'properly': 1015, 'current': 1016, 'stupid': 1017, 'send': 1018, 'displays': 1019, 'disappointing': 1020, 'specifically': 1021, 'cloud': 1022, 'that’s': 1023, 'lamps': 1024, 'viewing': 1025, 'directly': 1026, 'enabled': 1027, 'end': 1028, 'view': 1029, 'repair': 1030, 'person': 1031, 'interact': 1032, 'starts': 1033, 'installed': 1034, 'sensitive': 1035, 'happens': 1036, 'connects': 1037, 'fidelity': 1038, 'direct': 1039, 'sooner': 1040, 'member': 1041, 'tunes': 1042, 'tube': 1043, 'giving': 1044, 'hour': 1045, 'fixed': 1046, 'certain': 1047, 'excelente': 1048, 'components': 1049, 'types': 1050, 'homework': 1051, 'classroom': 1052, 'hardly': 1053, 'coming': 1054, 'hit': 1055, 'provides': 1056, 'keeping': 1057, 'downloaded': 1058, 'yourself': 1059, 'router': 1060, 'pleasantly': 1061, 'artist': 1062, 'exploring': 1063, 'met': 1064, 'waiting': 1065, 'performs': 1066, 'provided': 1067, 'showing': 1068, 'stories': 1069, 'slowly': 1070, 'beat': 1071, 'delay': 1072, 'described': 1073, 'increase': 1074, 'electronics': 1075, 'complete': 1076, 'bugs': 1077, 'adjust': 1078, 'explore': 1079, 'changes': 1080, 'elderly': 1081, 'premium': 1082, 'conversations': 1083, 'late': 1084, 'changing': 1085, 'non': 1086, 'personally': 1087, 'sitting': 1088, '9': 1089, 'weird': 1090, 'speech': 1091, 'present': 1092, 'shipping': 1093, 'strong': 1094, 'whatever': 1095, 'bottom': 1096, 'certified': 1097, 'parts': 1098, 'planning': 1099, 'everyday': 1100, 'learned': 1101, 'portable': 1102, 'breeze': 1103, 'appointments': 1104, 'awhile': 1105, 'deck': 1106, 'true': 1107, 'arlo': 1108, 'exchange': 1109, 'walk': 1110, 'mode': 1111, 'capable': 1112, 'occasionally': 1113, 'brought': 1114, 'im': 1115, 'further': 1116, 'i’d': 1117, 'intended': 1118, 'offers': 1119, 'possible': 1120, 'faces': 1121, 'choose': 1122, 'named': 1123, 'important': 1124, 'negative': 1125, 'snooze': 1126, 'capability': 1127, 'dims': 1128, 'waking': 1129, 'cycle': 1130, 'de': 1131, 'swipe': 1132, 'comfortable': 1133, 'content': 1134, 'tall': 1135, 'children': 1136, 'routine': 1137, 'correct': 1138, 'navigate': 1139, 'tablet': 1140, 'seemed': 1141, 'story': 1142, 'z': 1143, 'wave': 1144, 'jack': 1145, 'floor': 1146, 'charm': 1147, 'talks': 1148, 'figuring': 1149, 'greater': 1150, 'port': 1151, 'round': 1152, 'custom': 1153, 'test': 1154, 'knowledge': 1155, 'users': 1156, 'que': 1157, 'lets': 1158, 'company': 1159, 'fios': 1160, 'charge': 1161, 'downside': 1162, 'she’s': 1163, 'anymore': 1164, 'feels': 1165, 'don': 1166, 'picks': 1167, 'book': 1168, 'photo': 1169, 'integrated': 1170, 'exact': 1171, 'names': 1172, 'resist': 1173, 'versatile': 1174, 'instantly': 1175, 'allows': 1176, 'advanced': 1177, 'prior': 1178, 'lacks': 1179, 'english': 1180, 'anticipated': 1181, 'locks': 1182, 'seamlessly': 1183, 'seriously': 1184, 'cordless': 1185, 'accounts': 1186, 'perform': 1187, 'lose': 1188, 'intercoms': 1189, 'aware': 1190, 'likely': 1191, 'challenge': 1192, 'treble': 1193, 'regrets': 1194, 'pool': 1195, 'worry': 1196, 'yard': 1197, 'iheartradio': 1198, 'simultaneously': 1199, 'hesitant': 1200, 'greatest': 1201, 'pain': 1202, 'pleasure': 1203, 'weak': 1204, 'kinda': 1205, 'hoped': 1206, 'installing': 1207, 'inconvenient': 1208, 'beyond': 1209, 'auxiliary': 1210, 'pictures': 1211, 'prefer': 1212, 'act': 1213, 'nest': 1214, 'leaving': 1215, 'dislikes': 1216, 'six': 1217, 'guest': 1218, 'bucks': 1219, 'flawlessly': 1220, 'horrible': 1221, 'neither': 1222, 'everywhere': 1223, 'unplug': 1224, 'refurb': 1225, 'none': 1226, 'recommended': 1227, 'case': 1228, 'defective': 1229, 'helping': 1230, 'cant': 1231, 'eyes': 1232, 'level': 1233, 'warranty': 1234, '—': 1235, 'special': 1236, 'connectivity': 1237, 'chance': 1238, 'sense': 1239, 'form': 1240, 'chose': 1241, 'opinion': 1242, 'neat': 1243, 'garbage': 1244, 'shop': 1245, 'l': 1246, 'weekend': 1247, 'facetime': 1248, 'bring': 1249, 'compared': 1250, 'asleep': 1251, 'switch': 1252, 'phones': 1253, 'rain': 1254, 'rid': 1255, 'effective': 1256, '“alexa': 1257, 'paired': 1258, 'pair': 1259, 'alex': 1260, 'privacy': 1261, 'happened': 1262, 'event': 1263, 'task': 1264, 'imagine': 1265, 'skype': 1266, 'general': 1267, 'fall': 1268, 'events': 1269, 'apparently': 1270, 'clean': 1271, 'addicted': 1272, 'law': 1273, 'la': 1274, 'mic': 1275, 'sucks': 1276, 'cutting': 1277, 'felt': 1278, 'wouldn’t': 1279, 'suppose': 1280, 'tasks': 1281, 'silly': 1282, 'cancel': 1283, 'liking': 1284, 'whether': 1285, 'debating': 1286, 'rotate': 1287, 'sized': 1288, 'willing': 1289, 'nearly': 1290, 'web': 1291, 'mind': 1292, 'past': 1293, 'text': 1294, 'solution': 1295, 'systems': 1296, 'powerful': 1297, 'visual': 1298, 'lag': 1299, 'speed': 1300, 'requires': 1301, 'enjoyable': 1302, 'switches': 1303, 'plenty': 1304, 'straight': 1305, 'confused': 1306, 'zigbee': 1307, 'twice': 1308, 'links': 1309, 'inexpensive': 1310, 'ipad': 1311, 'fabric': 1312, 'usb': 1313, 'charger': 1314, 'didnt': 1315, \"alexa's\": 1316, 'unique': 1317, '“learn”': 1318, 'likes': 1319, 'android': 1320, 'camelot': 1321, 'tons': 1322, 'es': 1323, 'español': 1324, '00': 1325, 'mention': 1326, 'wonderfully': 1327, 'tips': 1328, 'na': 1329, 'abilities': 1330, 'cent': 1331, 'patient': 1332, 'offered': 1333, 'pass': 1334, 'wow': 1335, 'bigger': 1336, 'besides': 1337, 'sorry': 1338, 'harder': 1339, 'quicker': 1340, 'grab': 1341, 'thoroughly': 1342, 'audiobook': 1343, 'paper': 1344, 'temperature': 1345, 'reports': 1346, 'water': 1347, 'moved': 1348, 'basement': 1349, 'somewhat': 1350, 'details': 1351, 'player': 1352, \"let's\": 1353, 'routines': 1354, 'audiophile': 1355, 'covers': 1356, 'possibilities': 1357, 'provide': 1358, 'kinds': 1359, 'jazz': 1360, \"father's\": 1361, 'repeated': 1362, 'sad': 1363, 'rocks': 1364, 'socket': 1365, 'communication': 1366, 'automatic': 1367, 'owned': 1368, 'decrease': 1369, 'recognizes': 1370, 'anywhere': 1371, 'usually': 1372, 'consider': 1373, 'improvements': 1374, 'impressive': 1375, 'ordering': 1376, 'outlets': 1377, 'terrific': 1378, 'nicer': 1379, 'directv': 1380, 'wanting': 1381, 'efficient': 1382, 'comparable': 1383, 'concerned': 1384, 'enjoyment': 1385, 'timing': 1386, 'password': 1387, 'barely': 1388, 'discover': 1389, 'whenever': 1390, 'dedicated': 1391, 'sending': 1392, 'purpose': 1393, 'phillips': 1394, 'aren’t': 1395, 'include': 1396, 'background': 1397, 'responding': 1398, 'yelling': 1399, 'beautiful': 1400, \"there's\": 1401, 'switched': 1402, '“drop': 1403, 'reach': 1404, 'haha': 1405, 'amazingly': 1406, 'application': 1407, 'taking': 1408, \"shouldn't\": 1409, 'god': 1410, 'under': 1411, '15': 1412, '5ghz': 1413, 'hold': 1414, 'model': 1415, 'obvious': 1416, 'shout': 1417, 'alert': 1418, 'reads': 1419, 'total': 1420, 'lived': 1421, 'recording': 1422, \"weren't\": 1423, 'irritating': 1424, 'noise': 1425, 'date': 1426, 'realized': 1427, 'truly': 1428, 'reminder': 1429, 'i’ll': 1430, 'wakes': 1431, 'states': 1432, 'shape': 1433, 'answered': 1434, 'kept': 1435, 'customization': 1436, 'reminds': 1437, 'previously': 1438, 'scroll': 1439, 'dark': 1440, 'sing': 1441, 'matter': 1442, 'distance': 1443, 'difficulty': 1444, 'paying': 1445, 'waited': 1446, 'rest': 1447, 'trailers': 1448, 'spots': 1449, 'listens': 1450, 'fits': 1451, 'related': 1452, 'continuously': 1453, 'se': 1454, 'snoozes': 1455, 'dismiss': 1456, 'simpler': 1457, 'updated': 1458, 'finds': 1459, 'cover': 1460, 'location': 1461, 'adequate': 1462, 'woken': 1463, 'manage': 1464, 'briefings': 1465, 'crap': 1466, 'recently': 1467, 'thunderstorm': 1468, 'yesterday': 1469, 'literally': 1470, 'dim': 1471, 'voices': 1472, 'hotel': 1473, 'separate': 1474, 'homes': 1475, 'hate': 1476, 'awful': 1477, 'rarely': 1478, 'jumped': 1479, 'engine': 1480, 'created': 1481, 'resolution': 1482, 'literate': 1483, 'library': 1484, 'havent': 1485, 'site': 1486, 'sign': 1487, 'appears': 1488, 'pointless': 1489, 'lightbulb': 1490, 'left': 1491, 'isolated': 1492, 'practical': 1493, 'discovery': 1494, 'fully': 1495, 'standing': 1496, 'training': 1497, 'nope': 1498, 'chromecast': 1499, 'load': 1500, 'rent': 1501, 'linking': 1502, 'dropping': 1503, 'al': 1504, 'testing': 1505, 'smarter': 1506, 'motown': 1507, 'salsa': 1508, 'dumber': 1509, 'alexi': 1510, 'interference': 1511, \"aren't\": 1512, 'yr': 1513, 'deaf': 1514, 'politics': 1515, '5th': 1516, 'benefits': 1517, 'lacking': 1518, 'itunes': 1519, 'anypod': 1520, \"we'll\": 1521, 'intrusive': 1522, 'followed': 1523, 'primary': 1524, 'ship': 1525, 'mobile': 1526, 'glitches': 1527, 'bargain': 1528, 'deals': 1529, '👍🏻': 1530, 'en': 1531, '83': 1532, 'extent': 1533, 'appliances': 1534, 'controll': 1535, 'located': 1536, 'data': 1537, 'material': 1538, 'secretary': 1539, \"cd's\": 1540, 'million': 1541, 'style': 1542, 'twist': 1543, 'press': 1544, 'elsewhere': 1545, 'mood': 1546, 'phrase': 1547, 'machine': 1548, 'title': 1549, 'controller': 1550, 'exceeded': 1551, 'responses': 1552, 'informative': 1553, 'nature': 1554, 'queries': 1555, \"you'd\": 1556, 'enables': 1557, 'subscribing': 1558, 'knowing': 1559, 'whats': 1560, 'worthless': 1561, 'till': 1562, 'briefs': 1563, 'hers': 1564, 'technologically': 1565, 'rechargeable': 1566, 'boom': 1567, 'interaction': 1568, 'odd': 1569, 'southern': 1570, 'superb': 1571, 'hot': 1572, 'seamless': 1573, 'manufacturers': 1574, 'supporting': 1575, 'tvs': 1576, 'fabulous': 1577, 'warehouse': 1578, 'damage': 1579, 'curve': 1580, 'unbelievable': 1581, 'holder': 1582, 'nobody': 1583, 'car': 1584, 'scheduling': 1585, 'thoughts': 1586, 'recorded': 1587, 'frequently': 1588, 'begin': 1589, 'result': 1590, \"'s\": 1591, 'deep': 1592, 'serve': 1593, 'ac': 1594, 'integration': 1595, 'superior': 1596, 'we’ve': 1597, 'invasive': 1598, 'proved': 1599, 'cheaper': 1600, \"echo's\": 1601, 'refund': 1602, 'center': 1603, 'n': 1604, 'understanding': 1605, 'feet': 1606, 'receiving': 1607, '😂': 1608, 'owning': 1609, 'dinner': 1610, 'saved': 1611, 'universal': 1612, 'saving': 1613, 'freeze': 1614, 'seconds': 1615, 'buyer': 1616, 'walked': 1617, 'solved': 1618, 'email': 1619, 'confusing': 1620, 'notification': 1621, 'showering': 1622, 'picking': 1623, 'firmware': 1624, '39': 1625, 'scared': 1626, 'essentially': 1627, 'opening': 1628, 'versatility': 1629, 'appear': 1630, 'disappoint': 1631, 'receiver': 1632, 'echoes': 1633, 'disconnects': 1634, 'ran': 1635, 'meditation': 1636, 'minute': 1637, 'sold': 1638, 'higher': 1639, 'writing': 1640, 'reconnecting': 1641, 'limitations': 1642, 'solid': 1643, 'brightness': 1644, 'treadmill': 1645, 'yell': 1646, 'instant': 1647, 'excitement': 1648, 'unnecessary': 1649, 'dog': 1650, 'human': 1651, 'tapped': 1652, 'footprint': 1653, 'attached': 1654, 'zero': 1655, 'interesting': 1656, 'wikipedia': 1657, 'efforts': 1658, 'degrees': 1659, 'requesting': 1660, 'known': 1661, 'eh': 1662, \"son's\": 1663, 'attention': 1664, 'grand': 1665, 'despite': 1666, 'contacted': 1667, 'deliver': 1668, 'bible': 1669, 'commute': 1670, 'benefit': 1671, '“alexa”': 1672, 'convinced': 1673, 'creepy': 1674, 'purposes': 1675, 'falling': 1676, 'hopefully': 1677, 'runs': 1678, 'glorified': 1679, 'scrolling': 1680, 'entering': 1681, 'programmed': 1682, 'photos': 1683, 'tad': 1684, 'advertising': 1685, 'bother': 1686, 'table': 1687, 'website': 1688, 'perhaps': 1689, 'interested': 1690, 'spanish': 1691, 'members': 1692, 'whisper': 1693, 'normal': 1694, 'note': 1695, 'college': 1696, 'advertisement': 1697, 'disappointment': 1698, 'dropped': 1699, 'bringing': 1700, 'attractive': 1701, 'dependable': 1702, 'meh': 1703, 'travel': 1704, 'ad': 1705, 'homescreen': 1706, 're': 1707, 'su': 1708, 'el': 1709, 'puts': 1710, 'cleaning': 1711, 'ceiling': 1712, 'gripe': 1713, 'novelty': 1714, 'sleek': 1715, 'iheart': 1716, 'driven': 1717, 'organized': 1718, 'cut': 1719, 'dumb': 1720, 'npr': 1721, 'coolest': 1722, 'anytime': 1723, 'period': 1724, 'companion': 1725, 'omg': 1726, 'beautifully': 1727, 'numerous': 1728, 'massive': 1729, 'touching': 1730, 'delete': 1731, 'advise': 1732, 'hell': 1733, 'monitor': 1734, 'enable': 1735, 'customize': 1736, 'care': 1737, 'manual': 1738, 'media': 1739, 'shine': 1740, 'decor': 1741, 'thongs': 1742, 'sony': 1743, 'pull': 1744, 'screens': 1745, 'woke': 1746, 'com': 1747, 'choice': 1748, 'cons': 1749, 'forever': 1750, 'eeaanh': 1751, 'lights”': 1752, 'sounding': 1753, 'print': 1754, 'walking': 1755, '8': 1756, 'grandmother': 1757, 'herself': 1758, 'sets': 1759, 'aspects': 1760, 'cnn': 1761, 'leave': 1762, 'spying': 1763, 'natural': 1764, 'kick': 1765, 'controlled': 1766, 'net': 1767, 'state': 1768, 'comfort': 1769, 'blind': 1770, 'single': 1771, 'advantage': 1772, 'behind': 1773, 'drawback': 1774, 'concept': 1775, 'communicating': 1776, 'combined': 1777, 'pause': 1778, 'customizable': 1779, 'fourth': 1780, 'cozi': 1781, 'provider': 1782, 'rock': 1783, 'bar': 1784, 'flashes': 1785, 'restart': 1786, 'newest': 1787, 'themselves': 1788, 'lastly': 1789, 'membership': 1790, 'subscription': 1791, 'spam': 1792, 'mixed': 1793, 'extras': 1794, '4ghz': 1795, 'vs': 1796, 'spoiled': 1797, 'common': 1798, 'visiting': 1799, 'improving': 1800, 'impulse': 1801, 'starting': 1802, 'memory': 1803, 'intelligent': 1804, 'contacts': 1805, 'flickering': 1806, 'tin': 1807, 'galaxy': 1808, 'patio': 1809, 'picked': 1810, '360': 1811, 'concerns': 1812, 'hubs': 1813, 'bolt': 1814, 'tp': 1815, 'placed': 1816, 'fixtures': 1817, 'den': 1818, 'management': 1819, 'luv': 1820, 'classical': 1821, 'american': 1822, 'thru': 1823, 'near': 1824, 'samsung': 1825, 'disabled': 1826, 'assist': 1827, 'poster': 1828, 'onto': 1829, 'attempt': 1830, 'phase': 1831, 'usage': 1832, 'weight': 1833, 'usual': 1834, 'muffled': 1835, 'spending': 1836, 'depending': 1837, 'singing': 1838, 'quiz': 1839, 'putting': 1840, 'boyfriend': 1841, 'extended': 1842, 'trial': 1843, 'market': 1844, 'buffering': 1845, 'availability': 1846, 'trip': 1847, 'game': 1848, 'accessible': 1849, 'cellphone': 1850, 'r': 1851, 'smartbon': 1852, 'specifily': 1853, 'listened': 1854, 'childhood': 1855, '85': 1856, 'eveyday': 1857, 'knee': 1858, 'hates': 1859, 'featues': 1860, 'shorter': 1861, 'minus': 1862, 'w': 1863, 'comforting': 1864, 'pin': 1865, 'rely': 1866, 'stationed': 1867, 'owners': 1868, 'tasha’s': 1869, 'definition': 1870, 'synching': 1871, 'motivation': 1872, 'compare': 1873, 'chargeable': 1874, 'fortunately': 1875, 'broadway': 1876, 'ne': 1877, 'jimmy': 1878, 'buffet': 1879, 'accurately': 1880, '“plus': 1881, 'etc”': 1882, '“your”': 1883, 'lo': 1884, 'unico': 1885, 'esta': 1886, 'you’d': 1887, '70': 1888, '😍': 1889, 'overview': 1890, 'concise': 1891, 'usde': 1892, 'nana': 1893, 'package—easy': 1894, 'collections': 1895, 'ranger': 1896, '“apps”': 1897, 'madlibs': 1898, 'strips': 1899, 'fans': 1900, 'implementing': 1901, 'chosen': 1902, 'nervous': 1903, 'intimidating': 1904, 'fathers': 1905, 'brainer': 1906, 'fuller': 1907, 'countries': 1908, 'burns': 1909, 'strictly': 1910, 'surprising': 1911, 'props': 1912, 'worse': 1913, 'troubling': 1914, 'ex': 1915, 'italian': 1916, 'opera': 1917, 'tosca': 1918, 'recharged': 1919, 'dance': 1920, 'yrs': 1921, 'generally': 1922, 'dies': 1923, 'lilttle': 1924, 'enhanced': 1925, 'age': 1926, 'knowledgeable': 1927, 'greade': 1928, 'blasting': 1929, 'remembering': 1930, '🤓': 1931, 'ecoo': 1932, 'sirius': 1933, 'pencil': 1934, 'fussy': 1935, 'woofers': 1936, 'tweeters': 1937, 'afternoon': 1938, '“dropping': 1939, 'surprise': 1940, 'multi': 1941, 'qvc': 1942, 'accidentally': 1943, 'spilled': 1944, 'sprinkler': 1945, 'matched': 1946, 'pamphlet': 1947, 'thorough': 1948, 'define': 1949, 'match': 1950, 'modern': 1951, 'killer': 1952, 'terminology': 1953, 'chart': 1954, 'investment': 1955, 'exho': 1956, 'gender': 1957, 'band': 1958, 'joked': 1959, 'breakfast': 1960, 'portability': 1961, 'stoled': 1962, 'afford': 1963, 'amozon': 1964, \"new's\": 1965, '“no”': 1966, 'tou’ll': 1967, 'assumption': 1968, 'sell': 1969, 'flexibility': 1970, 'aux': 1971, 'override': 1972, 'prevents': 1973, 'supberb': 1974, 'sports': 1975, 'hang': 1976, 'series': 1977, 'specify': 1978, 'afterwards': 1979, 'manners': 1980, 'enrolment': 1981, 'overa': 1982, 'born': 1983, 'korea': 1984, 'we’ll': 1985, 'paroduct': 1986, 'complicated': 1987, 'interfacing': 1988, 'abode': 1989, 'sinqued': 1990, 'lg': 1991, 'invested': 1992, '😁😁😁😁': 1993, 'imperfection': 1994, 'sealed': 1995, 'knock': 1996, 'integrates': 1997, 'changer': 1998, 'hesitate': 1999, 'lapsed': 2000, 'differentiate': 2001, 'among': 2002, 'speaks': 2003, 'comment': 2004, 'pod': 2005, 'employees': 2006, 'flat': 2007, 'bedrooms': 2008, 'actions': 2009, 'winds': 2010, 'personality': 2011, 'grandsons': 2012, 'goo': 2013, 'straightforward': 2014, 'messed': 2015, 'ground': 2016, 'advice': 2017, 'existence': 2018, 'designers': 2019, 'anticipate': 2020, 'ours': 2021, 'sufficient': 2022, 'evolve': 2023, 'stylish': 2024, 'technically': 2025, 'blown': 2026, 'dj': 2027, 'embarrassed': 2028, 'packages': 2029, 'addict': 2030, 'hiring': 2031, 'electrician': 2032, 'adopters': 2033, 'adjusts': 2034, 'subject': 2035, 'showman': 2036, 'crappy': 2037, 'bummed': 2038, 'enter': 2039, '4am': 2040, 'metro': 2041, 'booming': 2042, '1100sf': 2043, 'pure': 2044, 'dancing': 2045, 'wedding': 2046, \"genre's\": 2047, 'prepare': 2048, 'pc': 2049, 'drivers': 2050, 'retired': 2051, 'supplying': 2052, 'lve': 2053, 'tekkie': 2054, 'prize': 2055, 'unresponsive': 2056, \"one's\": 2057, 'ahead': 2058, 'main': 2059, 'relaxing': 2060, 'asap': 2061, 'chair': 2062, 'promised': 2063, 'shower': 2064, 'spoken': 2065, 'techie': 2066, 'store': 2067, 'spelling': 2068, 'trust': 2069, 'accessories': 2070, 'prompt': 2071, 'spell': 2072, 'tinny': 2073, 'reception': 2074, 'north': 2075, 'disconnected': 2076, 'broken': 2077, 'fixes': 2078, 'rubber': 2079, 'laundry': 2080, 'granddaughter': 2081, 'moving': 2082, 'outdoors': 2083, 'frustrated': 2084, 'nights': 2085, 'granted': 2086, 'sort': 2087, 'internal': 2088, 'charging': 2089, 'means': 2090, 'crashed': 2091, 'disconnect': 2092, 'orange': 2093, 'mid': 2094, 'performance': 2095, 'rep': 2096, 'effort': 2097, 'green': 2098, 'yellow': 2099, 'above': 2100, 'taken': 2101, 'happening': 2102, 'concerning': 2103, 'push': 2104, 'spoke': 2105, 'grandson': 2106, 'fee': 2107, 'collection': 2108, '150': 2109, 'worst': 2110, 'edit': 2111, 'guys': 2112, 'substitute': 2113, 'highest': 2114, 'whatsoever': 2115, 'uncle': 2116, 'quit': 2117, '29': 2118, 'lately': 2119, 'script': 2120, 'finicky': 2121, 'sensitivity': 2122, 'led': 2123, 'eg': 2124, 'rating': 2125, 'alexa’s': 2126, 'growing': 2127, 'tower': 2128, 'effortless': 2129, 'flawless': 2130, \"80's\": 2131, 'accessing': 2132, 'tricks': 2133, 'functionalities': 2134, 'apprehensive': 2135, 'electronic': 2136, \"amazon's\": 2137, 'verbally': 2138, 'geek': 2139, 'nuts': 2140, 'department': 2141, 'football': 2142, 'tired': 2143, 'troubleshooting': 2144, 'monthly': 2145, 'reaching': 2146, 'imagined': 2147, 'inexperience': 2148, 'shown': 2149, 'gaming': 2150, 'couch': 2151, 'shortly': 2152, 'upsetting': 2153, 'crackling': 2154, 'plans': 2155, 'wonder': 2156, 'according': 2157, 'suggest': 2158, 'outdoor': 2159, 'indoor': 2160, 'synced': 2161, 'baby': 2162, 'anyway': 2163, '”': 2164, 'heck': 2165, 'lack': 2166, 'resetting': 2167, 'designed': 2168, 'individual': 2169, 'accomplish': 2170, 'repeating': 2171, 'cd': 2172, 'laptop': 2173, 'interrupt': 2174, 'we’re': 2175, 'changed': 2176, 'ambient': 2177, 'typical': 2178, 'clocks': 2179, 'bunch': 2180, 'route': 2181, 'involved': 2182, 'toddler': 2183, 'became': 2184, 'positive': 2185, 'ridiculous': 2186, 'span': 2187, 'aunt': 2188, 'adds': 2189, 'xm': 2190, 'sweet': 2191, 'bright': 2192, 'christmas': 2193, 'pro': 2194, 'displayed': 2195, '75': 2196, 'font': 2197, 'possibly': 2198, 'angle': 2199, 'alternative': 2200, 'places': 2201, 'images': 2202, 'flaws': 2203, 'automatically': 2204, 'incredibly': 2205, 'con': 2206, 'missed': 2207, 'glasses': 2208, 'early': 2209, 'crisp': 2210, 'scrolls': 2211, 'dressed': 2212, '“things': 2213, 'try”': 2214, 'owner': 2215, 'staff': 2216, 'assistance': 2217, 'suggested': 2218, 'versions': 2219, 'fit': 2220, 'pop': 2221, 'familiar': 2222, 'sliced': 2223, 'bread': 2224, 'dimmer': 2225, 'youngest': 2226, 'goodies': 2227, 'cause': 2228, 'pre': 2229, 'permanently': 2230, 'acting': 2231, 'sadly': 2232, 'misplace': 2233, 'kid': 2234, 'practically': 2235, 'menu': 2236, 'precise': 2237, 'manually': 2238, 'results': 2239, 'recurring': 2240, 'happen': 2241, '18': 2242, 'microphones': 2243, 'models': 2244, 'forces': 2245, 'syncing': 2246, 'ignoring': 2247, 'customers': 2248, 'fell': 2249, 'concern': 2250, 'grandparents': 2251, 'conferencing': 2252, 'bill': 2253, 'arm': 2254, 'websites': 2255, 'e': 2256, 'kwikset': 2257, 'soundbar': 2258, 'navigating': 2259, 'arrive': 2260, 'seen': 2261, 'integrating': 2262, 'dash': 2263, 'road': 2264, 'disaster': 2265, 'genres': 2266, 'child': 2267, 'outrageous': 2268, 'analog': 2269, 'buyers': 2270, 'decision': 2271, 'promotion': 2272, 'packing': 2273, 'emergency': 2274, 'folks': 2275, 'advertise': 2276, 'town': 2277, 'avail': 2278, 'force': 2279, 'awake': 2280, 'replaces': 2281, 'pros': 2282, 'unlike': 2283, 'porch': 2284, 'ads': 2285, 'crazy': 2286, 'separately': 2287, 'jump': 2288, 'board': 2289, 'technical': 2290, '24': 2291, '48': 2292, 'self': 2293, 'bundle': 2294, 'serious': 2295, 'engineers': 2296, 'tested': 2297, 'schedules': 2298, 'plain': 2299, 'cumbersome': 2300, 'versa': 2301, 'tends': 2302, 'break': 2303, 'stands': 2304, '90': 2305, 'expired': 2306, 'desired': 2307, 'voila': 2308, 'hire': 2309, 'sooooo': 2310, 'recipe': 2311, 'lost': 2312, 'caused': 2313, 'interacting': 2314, 'country': 2315, 'hmm': 2316, 'sticks': 2317, 'loses': 2318, 'bezos': 2319, 'reccomend': 2320, 'cat': 2321, 'vacation': 2322, 'aesthetic': 2323, 'mediocre': 2324, 'gifts': 2325, 'heavy': 2326, 'pics': 2327, 'constant': 2328, 'father': 2329, 'held': 2330, 'expectation': 2331, 'shipped': 2332, 'maximize': 2333, 'recent': 2334, 'stuck': 2335, 'eco': 2336, 'lines': 2337, 'trigger': 2338, 'fills': 2339, 'post': 2340, 'sources': 2341, 'incredible': 2342, 'priced': 2343, '4k': 2344, 'tries': 2345, 'noticed': 2346, 'recordings': 2347, 'history': 2348, 'upon': 2349, 'eventually': 2350, 'f': 2351, 'wealth': 2352, 'hole': 2353, 'demand': 2354, 'friday': 2355, 'page': 2356, 'visuals': 2357, 'glitching': 2358, 'lazy': 2359, 'originally': 2360, 'decorated': 2361, 'vehicle': 2362, 'covered': 2363, 'afraid': 2364, 'accuracy': 2365, 'ass': 2366, 'smooth': 2367, 'powercord': 2368, 'strongly': 2369, 'orders': 2370, 'frustration': 2371, 'brief': 2372, 'talked': 2373, 'leaning': 2374, 'messages': 2375, 'quot': 2376, 'forums': 2377, 'ny': 2378, 'description': 2379, 'conversation': 2380, 'vision': 2381, 'beginners': 2382, 'bff': 2383, 'pound': 2384, 'hey': 2385, \"hub's\": 2386, 'plane': 2387, 'bundled': 2388, 'newer': 2389, 'mark': 2390, 'tivo': 2391, 'required': 2392, 'disarm': 2393, 'ge': 2394, 'activate': 2395, 'sit': 2396, 'replacing': 2397, 'importantly': 2398, 'bye': 2399, 'buld': 2400, 'googled': 2401, 'steps': 2402, 'xfinity': 2403, 'geo': 2404, 'fencing': 2405, 'cheapest': 2406, 'italy': 2407, 'anybody': 2408, 'scheduled': 2409, 'differences': 2410, 'speedy': 2411, 'operator': 2412, '19': 2413, 'whom': 2414, 'wasnt': 2415, 'island': 2416, 'building': 2417, 'knob': 2418, \"3x's\": 2419, 'checked': 2420, 'prove': 2421, 'clue': 2422, 'girlfriend': 2423, 'blueprints': 2424, \"it'll\": 2425, 'wished': 2426, 'kodi': 2427, 'platform': 2428, 'utilize': 2429, 'bills': 2430, \"hasn't\": 2431, 'v': 2432, 'record': 2433, 'amounts': 2434, 'keyboard': 2435, 'sling': 2436, '👍': 2437, 'cbs': 2438, 'o': 2439, 'batteries': 2440, 'theater': 2441, 'fat': 2442, 'forecasts': 2443, 'interactive': 2444, 'bug': 2445, 'newsflash': 2446, 'reboots': 2447, \"'beta'\": 2448, 'stage': 2449, 'invention': 2450, 'tricky': 2451, 'stayed': 2452, 'hmmmm': 2453, 'appreciated': 2454, 'disconnecting': 2455, 'tickled': 2456, 'keeper': 2457, 'rough': 2458, 'patch': 2459, 'sunroom': 2460, 'helful': 2461, 'supported': 2462, 'reached': 2463, 'sprint': 2464, 'bare': 2465, 'minimum': 2466, 'hospital': 2467, 'grands': 2468, 'welcome': 2469, 'serius': 2470, 'sm': 2471, 'alot': 2472, 'fashioned': 2473, 'digitol': 2474, 'vacations': 2475, 'everytime': 2476, 'paranoid': 2477, 'vlan': 2478, 'require': 2479, 'questionable': 2480, 'carful': 2481, 'vetted': 2482, 'askes': 2483, 'handled': 2484, 'lonely': 2485, 'spark': 2486, 'ifs': 2487, 'ands': 2488, 'buts': 2489, 'minorly': 2490, 'comands': 2491, 'capasity': 2492, 'complained': 2493, 'medium': 2494, 'you’ve': 2495, 'doors': 2496, 'barn': 2497, 'horse': 2498, 'healing': 2499, 'continuous': 2500, 'spa': 2501, 'par': 2502, 'nite': 2503, 'boombox': 2504, '11': 2505, 'thick': 2506, 'dated': 2507, 'champ': 2508, 'yeah': 2509, 'insert': 2510, 'un': 2511, 'equipo': 2512, 'inteligente': 2513, 'estar': 2514, 'conectado': 2515, 'nos': 2516, 'provee': 2517, 'múltiples': 2518, 'funciones': 2519, 'tales': 2520, 'como': 2521, 'tiempo': 2522, 'hora': 2523, 'información': 2524, 'cualquier': 2525, 'estudio': 2526, 'estés': 2527, 'realizando': 2528, 'atrás': 2529, 'vez': 2530, 'del': 2531, 'forgot': 2532, 'amaxing': 2533, 'greeting': 2534, 'oven': 2535, 'temps': 2536, 's': 2537, 'simplified': 2538, 'bandwagon': 2539, 'struggle': 2540, 'sharing': 2541, 'reliable': 2542, 'qualty': 2543, 'filled': 2544, 'compound': 2545, 'projects': 2546, 'projection': 2547, 'awkward': 2548, 'students': 2549, 'dorm': 2550, 'spacing': 2551, 'smarthome': 2552, 'alright': 2553, 'reputation': 2554, 'nois': 2555, 'shooting': 2556, 'phonetically': 2557, '“smart': 2558, 'home”': 2559, 'intend': 2560, 'released': 2561, 'proper': 2562, 'development': 2563, 'fails': 2564, 'british': 2565, 'restrictive': 2566, 'refined': 2567, 'informed': 2568, 'verse': 2569, 'argue': 2570, 'imusic': 2571, 'structure': 2572, 'affordable': 2573, 'lullaby': 2574, 'survived': 2575, 'x': 2576, 'bells': 2577, 'whistles': 2578, 'satisified': 2579, 'flexible': 2580, 'humour': 2581, 'favorites': 2582, 'nowhere': 2583, 'wishing': 2584, 'solely': 2585, 'loosing': 2586, 'presumably': 2587, 'buzzing': 2588, 'king': 2589, 'cutie': 2590, 'sanity': 2591, 'choppy': 2592, 'domain': 2593, 'city': 2594, 'dial': 2595, 'lame': 2596, 'legally': 2597, 'godsend': 2598, 'numbers': 2599, 'choosing': 2600, 'shipment': 2601, 'costs': 2602, 'wattage': 2603, 'dollars': 2604, 'obsessed': 2605, 'stairs': 2606, 'certainly': 2607, 'unexpected': 2608, 'remind': 2609, 'seams': 2610, 'maintain': 2611, 'smiths': 2612, 'falls': 2613, 'learnimg': 2614, 'sounded': 2615, 'emoji': 2616, 'below': 2617, 'becoming': 2618, 'accustom': 2619, 'pup': 2620, 'calm': 2621, 'wonders': 2622, 'he’s': 2623, 'calmer': 2624, 'bark': 2625, 'expert': 2626, 'operation': 2627, 'confuses': 2628, 'engagement': 2629, 'sales': 2630, 'tempting': 2631, 'este': 2632, 'producto': 2633, 'llegó': 2634, 'semana': 2635, 'quedó': 2636, 'sin': 2637, 'olor': 2638, 'perdió': 2639, 'toda': 2640, 'escencia': 2641, 'huele': 2642, 'solo': 2643, 'alcohol': 2644, 'barry': 2645, 'ages': 2646, 'adults': 2647, 'locations': 2648, 'dead': 2649, 'stat': 2650, 'bothered': 2651, 'dinosaurs': 2652, 'categories': 2653, 'grandaughter': 2654, '2000': 2655, 'miles': 2656, 'duty': 2657, 'boost': 2658, \"speaker's\": 2659, 'definitively': 2660, 'input': 2661, 'select': 2662, 'encyclopedias': 2663, 'amazons': 2664, 'refunds': 2665, 'pauses': 2666, 'pattern': 2667, 'promp': 2668, 'poop': 2669, 'arent': 2670, 'naw': 2671, 'dollar': 2672, 'outsmart': 2673, \"you'll\": 2674, \"'alexa'\": 2675, 'foot': 2676, 'performing': 2677, '6th': 2678, 'divertido': 2679, 'information\\u200b': 2680, '80s': 2681, 'iove': 2682, 'attach': 2683, 'fm': 2684, 'native': 2685, 'americans': 2686, 'whose': 2687, 'texas': 2688, 'birth': 2689, 'additionally': 2690, 'marginal': 2691, 'extender': 2692, 'ten': 2693, 'dust': 2694, 'collectors': 2695, 'accomplished': 2696, 'acknowledge': 2697, 'indicated': 2698, 'productsand': 2699, 'journey': 2700, 'surely': 2701, 'portion': 2702, 'leary': 2703, 'puny': 2704, 'wear': 2705, 'tear': 2706, 'shuts': 2707, 'mint': 2708, 'teenagers': 2709, 'insist': 2710, 'young': 2711, 'simplicity': 2712, 'gazebo': 2713, 'diagnostics': 2714, 'corrected': 2715, 'roomba': 2716, 'reboot': 2717, 'sentence': 2718, 'holding': 2719, 'action': 2720, 'shocked': 2721, 'clone': 2722, 'boat': 2723, 'garage': 2724, 'gf': 2725, 'intermittently': 2726, 'channel': 2727, 'pulsate': 2728, 'pulsed': 2729, 'buddies': 2730, 'psychological': 2731, 'excellently': 2732, 'whe': 2733, 'reconditioned': 2734, 'pare': 2735, 'weary': 2736, 'actively': 2737, 'release': 2738, 'widespread': 2739, 'prevent': 2740, 'cortna': 2741, 'alive': 2742, 'thumbs': 2743, 'workreat': 2744, 'registered': 2745, 'spanking': 2746, 'laying': 2747, 'moana': 2748, 'sh': 2749, 'wherever': 2750, 'cordthank': 2751, 'brandnew': 2752, 'output': 2753, 'vintage': 2754, 'longevity': 2755, '“dot”': 2756, 'compliments': 2757, 'bough': 2758, 'bathrooms': 2759, '👍🏾': 2760, 'detect': 2761, '“name”': 2762, '12': 2763, 'significant': 2764, 'shelled': 2765, 'electronically': 2766, 'savy': 2767, 'sink': 2768, 'refurbishedthought': 2769, 'eye': 2770, 'drops': 2771, 'closed': 2772, 'backyard': 2773, 'assumed': 2774, 'standards': 2775, 'guaranteeing': 2776, 'junk': 2777, 'sometime': 2778, 'haywire': 2779, 'soft': 2780, 'advised': 2781, 'raised': 2782, 'iphone’s': 2783, 'dunno': 2784, 'rambled': 2785, 'unhelpful': 2786, 'spiel': 2787, 'norm': 2788, 'mic’s': 2789, 'apple’s': 2790, '“hey': 2791, 'siri”': 2792, 'responsiveness': 2793, 'albeit': 2794, 'nil': 2795, 'rainbow': 2796, 'effects': 2797, 'handle': 2798, 'levels': 2799, 'would’ve': 2800, 'persist': 2801, 'theirs': 2802, '3xs': 2803, 'lauded': 2804, 'screaming': 2805, 'excuses': 2806, 'disappointments': 2807, 'viola': 2808, 'atmosphere': 2809, 'joy': 2810, 'sooo': 2811, 'ocean': 2812, 'groups': 2813, 'alexas': 2814, 'preciously': 2815, 'guard': 2816, 'leaves': 2817, 'blinks': 2818, 'chores': 2819, 'dogs': 2820, \"it'd\": 2821, 'golden': 2822, 'absolutly': 2823, 'existing': 2824, 'guarantee': 2825, 'tardis': 2826, 'land': 2827, 'geeks': 2828, 'majel': 2829, \"barret's\": 2830, 'heaven': 2831, 'nsa': 2832, 'packaged': 2833, 'entertained': 2834, 'honest': 2835, 'refurbish': 2836, 'drives': 2837, 'dissatisfaction': 2838, 'forgotten': 2839, 'mainstream': 2840, 'amusing': 2841, 'yards': 2842, 'cotton': 2843, 'refer': 2844, 'sorely': 2845, 'reasonable': 2846, 'hal': 2847, 'seldom': 2848, 'reconnected': 2849, 'workout': 2850, 'row': 2851, 'accurate': 2852, 'thats': 2853, 'conspiracy': 2854, 'theories': 2855, 'eavesdropping': 2856, 'government': 2857, '91': 2858, '81': 2859, 'labeled': 2860, 'report': 2861, 'educational': 2862, 'refurbishing': 2863, 'wont': 2864, 'ita': 2865, 'perfecto': 2866, 'died': 2867, 'boss': 2868, 'performed': 2869, 'owlhead': 2870, 'jacuzzi': 2871, 'nrw': 2872, 'defently': 2873, 'becomes': 2874, \"niece's\": 2875, 'introduction': 2876, 'trained': 2877, '😬': 2878, 'faulty': 2879, 'toilet': 2880, 'credited': 2881, 'it‼️': 2882, 'hosting': 2883, 'lm': 2884, 'fanatic': 2885, 'extend': 2886, 'disturbing': 2887, 'verses': 2888, 'dodging': 2889, 'refurbs': 2890, 'unused': 2891, 'crib': 2892, 'dot’ish': 2893, 'understood': 2894, 'worthy': 2895, 'successor': 2896, 'theecho': 2897, 'mybedroom': 2898, 'wasconcerned': 2899, 'discoveredthat': 2900, 'avoid': 2901, 'confusion': 2902, '“echo': 2903, 'male': 2904, 'tomy': 2905, 'thestand': 2906, 'advantages': 2907, 'drag': 2908, 'dining': 2909, 'disagree': 2910, 'freezes': 2911, 'resolves': 2912, 'specifying': 2913, 'disconcerting': 2914, 'groggy': 2915, 'factor': 2916, 'square': 2917, 'rectangular': 2918, 'gizmo': 2919, 'individually': 2920, 'altering': 2921, 'computers': 2922, 'ipads': 2923, 'fussing': 2924, 'park': 2925, 'awsome': 2926, 'ceases': 2927, 'amaze': 2928, 'bang': 2929, 'softly': 2930, 'scratched': 2931, 'surface': 2932, 'devise': 2933, 'skeptical': 2934, 'grows': 2935, 'ant': 2936, 'trailer': 2937, 'etc”i': 2938, 'desktop': 2939, '‘appliance’': 2940, 'recipient': 2941, '😍💋💋💋💋❤': 2942, '‘technically': 2943, 'challenged’': 2944, 'selling': 2945, 'cropping': 2946, 'strange': 2947, 'glaring': 2948, 'exception': 2949, 'defeats': 2950, 'reminded': 2951, 'glow': 2952, 'bothersome': 2953, 'walls': 2954, 'lover': 2955, 'resembling': 2956, 'alabama': 2957, 'anyways': 2958, 'viewed': 2959, 'solves': 2960, 'efficiency': 2961, 'displaying': 2962, 'routinely': 2963, 'furthermore': 2964, 'navigation': 2965, 'tailor': 2966, 'accordingly': 2967, 'returnef': 2968, 'hardcore': 2969, 'infact': 2970, 'variant': 2971, 'beauty': 2972, 'placing': 2973, 'soundtouch': 2974, 'careless': 2975, 'ear': 2976, \"who's\": 2977, 'combination': 2978, 'plugins': 2979, 'indispensable': 2980, 'extrimelly': 2981, 'personalization': 2982, 'aloud': 2983, 'typed': 2984, 'unlocking': 2985, 'codes': 2986, 'unwitty': 2987, 'developers': 2988, 'invasions': 2989, 'carrier': 2990, 'defence': 2991, 'interpret': 2992, 'boring': 2993, 'notice': 2994, 'pen': 2995, 'id': 2996, 'served': 2997, '30pm': 2998, 'protected': 2999, 'safe': 3000, 'beam': 3001, 'specially': 3002, \"cam's\": 3003, 'reactive': 3004, '‘til': 3005, 'opened': 3006, 'convert': 3007, '😉': 3008, 'dimat': 3009, 'mu': 3010, 'hcfe': 3011, 'bot': 3012, 'rings': 3013, 'moms': 3014, 'ise': 3015, '“check': 3016, 'unnannounced': 3017, 'warning': 3018, 'activities': 3019, 'misunderstands': 3020, 'lit': 3021, 'consistent': 3022, 'feed': 3023, 'grandfather': 3024, 'lesson': 3025, 'visits': 3026, 'lags': 3027, 'lightning': 3028, 'sleeps': 3029, 'inability': 3030, 'lightening': 3031, 'storm': 3032, 'messaging': 3033, 'unusable': 3034, 'card': 3035, 'opt': 3036, 'critically': 3037, 'rebooted': 3038, 'funcionamiento': 3039, 'llama': 3040, 'atención': 3041, 'rapidez': 3042, 'respuesta': 3043, 'logra': 3044, 'través': 3045, 'utilización': 3046, 'sorprendió': 3047, 'gratamente': 3048, 'muy': 3049, 'recomendable': 3050, 'prompts': 3051, 'dismissed': 3052, \"tomorrow's\": 3053, 'mon': 3054, 'thu': 3055, 'fri': 3056, 'apparent': 3057, 'indicator': 3058, 'fingertips': 3059, 'habit': 3060, '12am': 3061, 'ladies': 3062, 'gen2': 3063, 'acts': 3064, \"sync'd\": 3065, 'etekcity': 3066, 'voltson': 3067, 'harvard': 3068, 'degree': 3069, 'updating': 3070, 'complaining': 3071, 'goodness': 3072, 'lov': 3073, 'she’ll': 3074, 'overwhelming': 3075, 'counters': 3076, 'wide': 3077, 'forth': 3078, 'dying': 3079, 'attempted': 3080, '“jaws”': 3081, 'business': 3082, 'hired': 3083, 'smoothly': 3084, '😊': 3085, 'reportsalarm': 3086, '⏰': 3087, '🎶': 3088, 'register': 3089, 'circle': 3090, 'toward': 3091, 'treat': 3092, 'amazons\\u200b': 3093, 'bloomberg': 3094, 'gain': 3095, 'key': 3096, 'catch': 3097, 'conditions': 3098, 'iy': 3099, 'deactivate': 3100, 'nervana': 3101, 'geared': 3102, 'towards': 3103, 'nigh': 3104, 'beta': 3105, 'india': 3106, '79': 3107, 'jamming': 3108, 'weekday': 3109, 'delivers': 3110, 'helper': 3111, 'travelling': 3112, 'mama': 3113, 'elegant': 3114, 'selfies': 3115, 'sends': 3116, 'hubby': 3117, 'hide': 3118, 'squirms': 3119, 'conscious': 3120, 'blocking': 3121, 'weekdays': 3122, \"'clock'\": 3123, 'rotates': 3124, \"'things\": 3125, \"try'\": 3126, 'upset': 3127, 'fail': 3128, 'blessing': 3129, 'bedtime': 3130, 'unobtrusive': 3131, '“themes”': 3132, 'east': 3133, 'coast': 3134, 'failing': 3135, 'partner': 3136, 'swiping': 3137, 'ii': 3138, 'screw': 3139, 'receivded': 3140, '07': 3141, '23': 3142, \"hadn't\": 3143, 'thrown': 3144, 'ting': 3145, 'fascinating': 3146, 'disable': 3147, 'persuasion': 3148, 'enters': 3149, 'hasn’t': 3150, 'alerts': 3151, 'marketing': 3152, 'contents': 3153, 'acceptable': 3154, 'moreover': 3155, 'tend': 3156, 'tools': 3157, 'impede': 3158, 'operations': 3159, 'thursday': 3160, 'unwrapped': 3161, 'reoccurring': 3162, 'believer': 3163, 'shell': 3164, 'leg': 3165, 'reference': 3166, 'cohesive': 3167, 'instruction': 3168, 'pizza': 3169, 'hut': 3170, 'views': 3171, 'hype': 3172, 'bugging': 3173, \"1990's\": 3174, 'downright': 3175, 'ugly': 3176, 'interest': 3177, \"spot's\": 3178, 'smartphone': 3179, 'pages': 3180, 'fiances': 3181, 'preferred': 3182, 'renting': 3183, 'tinker': 3184, 'hvac': 3185, 'looooooove': 3186, 'chachki': 3187, 'adjustment': 3188, 'hong': 3189, 'kong': 3190, 'bezel': 3191, 'usable': 3192, 'involves': 3193, 'dare': 3194, 'hundred': 3195, 'meant': 3196, 'nonsense': 3197, 'nanny': 3198, 'adorable': 3199, 'subscriber': 3200, 'alternatives': 3201, 'alleviate': 3202, 'remorse': 3203, 'sight': 3204, 'numb': 3205, 'indundated': 3206, 'stimulus': 3207, 'suitable': 3208, 'entirely': 3209, 'knocked': 3210, 'cycles': 3211, 'rotation': 3212, 'heads': 3213, '“ready': 3214, 'setup”': 3215, 'time😔': 3216, 'lady': 3217, 'researched': 3218, '45': 3219, 'occasional': 3220, 'trending”': 3221, 'greatly': 3222, 'depreciates': 3223, 'billboard': 3224, 'streamline': 3225, 'warns': 3226, 'snarls': 3227, 'suggesting': 3228, 'introducing': 3229, 'artists': 3230, 'amaonmazing': 3231, 'blanket': 3232, 'infotainment': 3233, 'sleepy': 3234, 'zonked': 3235, 'zzzzzzz': 3236, 'yep': 3237, 'statement': 3238, 'excessive': 3239, 'rotations': 3240, 'screenselect': 3241, 'settingshome': 3242, 'clockhome': 3243, 'cardsrotate': 3244, 'onceproblem': 3245, 'nicely': 3246, 'constructed': 3247, 'arriving': 3248, 'pricey': 3249, 'https': 3250, 'www': 3251, 'dp': 3252, 'b073sqyxtw': 3253, 'ref': 3254, 'cm': 3255, 'cr': 3256, 'ryp': 3257, 'prd': 3258, 'ttl': 3259, 'sol': 3260, 'positives': 3261, 'initial': 3262, 'clearer': 3263, \"'skills'\": 3264, 'mount': 3265, 'lcd': 3266, 'sleeper': 3267, 'wind': 3268, 'taping': 3269, 'tape': 3270, 'tiny': 3271, 'suffer': 3272, 'swell': 3273, 'slide': 3274, 'pivoting': 3275, 'colon': 3276, 'celebs': 3277, 'nit': 3278, 'picky': 3279, 'beefy': 3280, 'compliment': 3281, 'working—called': 3282, 'determined': 3283, 'overheating': 3284, 'replied': 3285, 'inline': 3286, 'per': 3287, 'unacceptable—expected': 3288, 'arises': 3289, 'farther': 3290, 'cleaner': 3291, 'perk': 3292, 'beside': 3293, 'split': 3294, 'hairs': 3295, 'increasing': 3296, 'weekly': 3297, 'overtime': 3298, 'project': 3299, 'feedback': 3300, 'staying': 3301, 'girls': 3302, '25': 3303, 'deployed': 3304, 'appropriate': 3305, 'particularly': 3306, '5am”': 3307, '“ok': 3308, '5am': 3309, 'fumble': 3310, '1990’s': 3311, 'situations': 3312, 'spouse': 3313, 'cancels': 3314, 'cancelled': 3315, 'snoozed': 3316, 'amused': 3317, 'summoning': 3318, 'creapy': 3319, 'af': 3320, 'vice': 3321, 'intermittent': 3322, 'optical': 3323, 'podcast': 3324, 'digs': 3325, 'cartoons': 3326, 'hectic': 3327, 'everyone’s': 3328, 'virtual': 3329, 'libraries': 3330, 'sopt': 3331, 'realizing': 3332, 'amazonia': 3333, 'mother’s': 3334, 'lil': 3335, '😑': 3336, 'mentioned': 3337, 'effected': 3338, 'anyhow': 3339, 'hand': 3340, 'pleasedsimple': 3341, 'tremendous': 3342, 'dhiw': 3343, 'what’s': 3344, 'preview': 3345, 'pricing': 3346, 'underestimated': 3347, 'cart': 3348, 'chatting': 3349, 'isnt': 3350, 'image': 3351, 'pixelated': 3352, 'slideshow': 3353, 'articles': 3354, 'shutting': 3355, 'mexico': 3356, 'usa': 3357, 'houses': 3358, 'mimic': 3359, 'baseball': 3360, 'scores': 3361, 'cooler': 3362, 'audiobooks': 3363, 'applications': 3364, 'optional': 3365, 'disposable': 3366, 'income': 3367, 'imhave': 3368, 'recommending': 3369, 'continually': 3370, 'bc': 3371, 'guide': 3372, 'floating': 3373, 'purely': 3374, 'track': 3375, 'holiday': 3376, 'organization': 3377, 'virtually': 3378, 'punch': 3379, 'mids': 3380, 'activates': 3381, 'meaningful': 3382, 'distraction': 3383, 'practicalthan': 3384, '88': 3385, 'uninstall': 3386, 'reinstall': 3387, 'reconfigure': 3388, 'resistant': 3389, 'york': 3390, \"world's\": 3391, 'fair': 3392, '1964': 3393, '54': 3394, 'co': 3395, 'worker': 3396, 'telephone': 3397, 'laughter': 3398, 'eliminate': 3399, 'payed': 3400, 'sooooooo': 3401, 'pia': 3402, 'manuals': 3403, 'magically': 3404, \"show's\": 3405, 'examples': 3406, 'pants': 3407, 'udefulness': 3408, 'hated': 3409, 'parties': 3410, 'dish': 3411, '129': 3412, 'ti': 3413, 'definately': 3414, '229': 3415, 'hesitated': 3416, 'mac': 3417, 'air': 3418, 'referred': 3419, 'intelagence': 3420, 'dependence': 3421, 'pushed': 3422, 'accessable': 3423, 'gather': 3424, 'subsequently': 3425, 'ihome': 3426, 'docking': 3427, 'clothes': 3428, 'dryer': 3429, 'resume': 3430, 'utility': 3431, 'owe': 3432, 'marked': 3433, 'lyrical': 3434, 'malone': 3435, \"consumer's\": 3436, 'argument': 3437, 'feeds': 3438, 'spectacular': 3439, 'stellar': 3440, 'hi': 3441, 'campus': 3442, 'carry': 3443, 'stationary': 3444, 'invasion': 3445, 'relief': 3446, 'onme': 3447, 'visa': 3448, 'voiceview': 3449, 'reader': 3450, 'hadn’t': 3451, 'ourselves': 3452, 'vast': 3453, 'canary': 3454, 'agree': 3455, 'deeper': 3456, 'capacity': 3457, 'join': 3458, 'backgrounds': 3459, 'primeday': 3460, 'blows': 3461, 'amount': 3462, 'untapped': 3463, 'locked': 3464, 'restrictions': 3465, 'hd': 3466, '‘drop': 3467, 'in’': 3468, 'st': 3469, 'louis': 3470, '😎': 3471, 'thrilled': 3472, 'seprately': 3473, 'mics': 3474, 'tg': 3475, 'ed': 3476, 'sharp': 3477, 'secret': 3478, 'agent': 3479, 'johnny': 3480, 'rivers': 3481, '“live”version': 3482, 'comeletely': 3483, 'irritated': 3484, 'baffled': 3485, 'nor': 3486, 'abay': 3487, 'cylinder': 3488, 'writes': 3489, 'accompanying': 3490, 'anylist': 3491, 'decides': 3492, 'exceeds': 3493, 'topic': 3494, 'preparing': 3495, 'spotlight': 3496, 'cams': 3497, 'clients': 3498, '2package': 3499, 'cracked': 3500, 'graphics': 3501, 'family’s': 3502, 'drawing': 3503, 'essential': 3504, 'marvelous': 3505, 'gb': 3506, 'a1': 3507, 'conditioning': 3508, 'steep': 3509, 'diversity': 3510, 'dec': 3511, '2017': 3512, 'window': 3513, 'opens': 3514, 'contains': 3515, 'grownups': 3516, 'position': 3517, 'stove': 3518, 'cousin': 3519, 'carolina': 3520, 'addressed': 3521, 'majes': 3522, 'repairs': 3523, '“updated': 3524, 'firmware”': 3525, 'glitch': 3526, 'ty': 3527, 'jeapordy': 3528, 'visible': 3529, 'competition': 3530, 'developed': 3531, 'therefore': 3532, 'doesnt': 3533, '200': 3534, 'shorted': 3535, 'minimal': 3536, 'nightmare': 3537, 'overpriced': 3538, 'produc': 3539, 'fledged': 3540, 'accesss': 3541, 'lurking': 3542, 'continous': 3543, 'promoting': 3544, 'settins': 3545, 'anti': 3546, 'reasons': 3547, 'staging': 3548, 'acoustical': 3549, 'cylindercal': 3550, 'adjacent': 3551, 'stinks': 3552, 'engaging': 3553, 'regard': 3554, 'bandwidth': 3555, 'detailed': 3556, 'offing': 3557, 'ase': 3558, 'participating': 3559, 'compacity': 3560, 'aint': 3561, 'international': 3562, 'tune': 3563, 'pulling': 3564, 'teeth': 3565, 'totallly': 3566, 'blink': 3567, 'everybody': 3568, 'jetsons': 3569, 'draw': 3570, 'teacher': 3571, 'ight': 3572, 'inviting': 3573, 'expanding': 3574, 'maintaining': 3575, 'shuffle': 3576, 'photographs': 3577, 'sewing': 3578, 'wellfour': 3579, 'bizarre': 3580, 'sore': 3581, 'thumb': 3582, 'flaw': 3583, '“white”': 3584, 'urge': 3585, 'affirmations': 3586, 'personalized': 3587, 'allrecipes': 3588, \"cook's\": 3589, 'illustrated': 3590, 'uhyour': 3591, 'selections': 3592, 'preferences': 3593, 'temp': 3594, 'c': 3595, 'searches': 3596, 'laziness': 3597, 'headphones': 3598, 'm': 3599, 'dig': 3600, 'bonkers': 3601, 'floored': 3602, 'blurring': 3603, 'shaking': 3604, 'jumping': 3605, 'hassle': 3606, 'references': 3607, 'yup': 3608, 'let’s': 3609, 'hahaawesome': 3610, 'hints': 3611, 'sparks': 3612, 'imagination': 3613, 'belong': 3614, 'nephews': 3615, 'grandparent': 3616, 'dementia': 3617, 'loss': 3618, 'medications': 3619, 'viceo': 3620, 'aka': 3621, 'nbsp': 3622, 'hence': 3623, 'puzzled': 3624, 'yhe': 3625, 'thou': 3626, 'calendars': 3627, 'alongside': 3628, 'útil': 3629, 'algo': 3630, 'í': 3631, 'isue': 3632, 'reported': 3633, 'solución': 3634, '4th': 3635, 'screenless': 3636, 'providing': 3637, 'hallway': 3638, 'bulky': 3639, 'headline': 3640, 'suggests': 3641, 'adapted': 3642, 'machines': 3643, 'cross': 3644, 'activating': 3645, 'rename': 3646, 'adept': 3647, 'exceptionally': 3648, 'coffee': 3649, 'prettier': 3650, 'dense': 3651, 'nj': 3652, 'regional': 3653, 'experiences': 3654, 'tablets': 3655, 'surround': 3656, 'gadgets': 3657, 'spur': 3658, 'dictionary': 3659, 'areas': 3660, 'reduced': 3661, 'auto': 3662, 'imrproved': 3663, 's9': 3664, 'string': 3665, \"don'r\": 3666, 'explicit': 3667, 'electeonically': 3668, 'challenged': 3669, 'feee': 3670, 'lifht': 3671, 'bing': 3672, 'combine': 3673, 'silver': 3674, 'unimportant': 3675, 'intention': 3676, 'scottish': 3677, '“oops': 3678, 'wrong”': 3679, 'specs': 3680, 'stubborn': 3681, 'gatherings': 3682, 'extends': 3683, 'impaired': 3684, 'loaded': 3685, 'social': 3686, 'facebook': 3687, 'twitter': 3688, 'whos': 3689, 'aspect': 3690, 'distracting': 3691, 'countless': 3692, 'dunce': 3693, 'sigh': 3694, 'exasperation': 3695, 'ignored': 3696, 'workarounds': 3697, 'scoured': 3698, 'section': 3699, 'addresses': 3700, 'configure': 3701, 'accepting': 3702, 'karen': 3703, 'controllable': 3704, 'cups': 3705, 'sons': 3706, 'slight': 3707, 'begun': 3708, 'array': 3709, 'mute': 3710, 'equalizer': 3711, 'introduce': 3712, '888': 3713, 'posed': 3714, 'somebody': 3715, 'community': 3716, 'body': 3717, 'wink': 3718, 'integrate': 3719, 'innovative': 3720, 'upgrading': 3721, 'cases': 3722, 'settle': 3723, \"cost's\": 3724, \"friend's\": 3725, 'philly': 3726, 'buys': 3727, 'yale': 3728, 'techy': 3729, 'audibles': 3730, 'tunein': 3731, 'heart': 3732, 'reorder': 3733, 'notifies': 3734, 'mailed': 3735, 'devises': 3736, 'august': 3737, 'ties': 3738, 'experienced': 3739, 'nexia': 3740, 'interactions': 3741, 'alread': 3742, 'nudged': 3743, 'build': 3744, 'fixture': 3745, 'configured': 3746, 'brands': 3747, 'baffle': 3748, 'esp': 3749, 'dented': 3750, 'exchanging': 3751, 'coop': 3752, 'somehow': 3753, 'reauthorize': 3754, 'ton': 3755, 'jeopardy': 3756, 'corresponds': 3757, 'exchanges': 3758, 'makings': 3759, 'documentation': 3760, 'becausse': 3761, 'accident': 3762, 'echoplus': 3763, 'extension': 3764, \"youtube's\": 3765, 'habla': 3766, 'espanol': 3767, 'hd8': 3768, 'cpr': 3769, 'mistakes': 3770, 'oops': 3771, 'sofa': 3772, 'broke': 3773, 'fixing': 3774, 'philipshue': 3775, 'instantaneous': 3776, 'catches': 3777, 'bothers': 3778, 'conflict': 3779, 'evaluate': 3780, 'communicated': 3781, 'preset': 3782, 'firmare': 3783, 'featured': 3784, 'iot': 3785, 'needing': 3786, 'standalone': 3787, 'redundant': 3788, 'equal': 3789, 'soundlink': 3790, 'tinkering': 3791, 'chalk': 3792, 'repertoire': 3793, 'walks': 3794, 'successfully': 3795, 'completed': 3796, 'technicians': 3797, 'chromebook': 3798, 'luck': 3799, 'behaved': 3800, 'soccer': 3801, 'sport': 3802, 'teams': 3803, 'remaining': 3804, 'pairing': 3805, 'utilizing': 3806, 'ecobee3': 3807, \"phillip's\": 3808, 'scooped': 3809, 'ball': 3810, 'rcieved': 3811, 'mere': 3812, 'verbal': 3813, '62': 3814, 'techno': 3815, 'knowledgable': 3816, 'hubbed': 3817, 'stump': 3818, 'admit': 3819, 'explored': 3820, 'refers': 3821, 'leisure': 3822, 'remedial': 3823, 'reconnect': 3824, 'false': 3825, 'ghost': 3826, 'ipdates': 3827, 'resolved': 3828, 'adapting': 3829, 'profiles': 3830, 'spins': 3831, 'handles': 3832, 'pets': 3833, '911': 3834, 'regardless': 3835, 'layer': 3836, 'protection': 3837, 'bf': 3838, 'cousins': 3839, 'facts': 3840, 'touted': 3841, 'interferes': 3842, 'depth': 3843, 'fairness': 3844, 'advance': 3845, 'protocol': 3846, 'supports': 3847, 'upgrades': 3848, 'texts': 3849, \"google's\": 3850, 'necessity': 3851, 'commodity': 3852, 'doctor': 3853, 'medical': 3854, 'rides': 3855, 'hospitals': 3856, 'cue': 3857, 'nurses': 3858, 'aide': 3859, 'chocolate': 3860, 'affirm': 3861, 'jeff': 3862, 'allowing': 3863, 'disability': 3864, 'earn': 3865, '672': 3866, 'ssdi': 3867, 'forecast': 3868, 'soaking': 3869, 'cursed': 3870, 'soaked': 3871, 'tec': 3872, 'complacated': 3873, 'verbalize': 3874, 'sirrius': 3875, 'dimming': 3876, 'scenes': 3877, 'tones': 3878, 'misled': 3879, 'explanation': 3880, 'throw': 3881, 'invest': 3882, 'shortcomings': 3883, 'fees': 3884, 'a19': 3885, 'differ': 3886, 'steaming': 3887, 'it’ll': 3888, 'skips': 3889, 'subscriptiondoes': 3890, 'audioapple': 3891, 'deviceoverall': 3892, 'philip': 3893, 'attempting': 3894, 'failed': 3895, 'watched': 3896, 'insanity': 3897, 'hr': 3898, 'mins': 3899, 'patience': 3900, 'shifting': 3901, 'mindset': 3902, 'kicking': 3903, 'locate': 3904, 'pray': 3905, 'successful': 3906, 'revise': 3907, 'odds': 3908, 'defuser': 3909, 'wasted': 3910, 'purchaser': 3911, 'expanded': 3912, 'noticeable': 3913, 'ends': 3914, 'unavailable': 3915, 'interrogated': 3916, 'originale': 3917, 'dimension': 3918, 'woofer': 3919, 'tweeter': 3920, 'pointed': 3921, 'sub': 3922, 'losing': 3923, 'edge': 3924, 'fw': 3925, 'inferior': 3926, \"tv's\": 3927, 'rattling': 3928, 'vibrating': 3929, 'distorted': 3930, 'rattle': 3931, 'crackle': 3932, 'characteristics': 3933, 'assuming': 3934, 'classic': 3935, 'orchestra': 3936, 'screamig': 3937, '“free”': 3938, 'carefully': 3939, 'click': 3940, '😳': 3941, 'sneaky': 3942, '“': 3943, 'free”': 3944, 'should’ve': 3945, 'himself': 3946, 'keen': 3947, 'goodmorning': 3948, 'sang': 3949, 'lolol': 3950, 'educated': 3951, 'laughs': 3952, 'waits': 3953, 'hes': 3954, 'direction': 3955, 'placement': 3956, 'appealing': 3957, 'neighbors': 3958, 'adjusting': 3959, 'inconvenience': 3960, 'sturdy': 3961, 'grip': 3962, 'granite': 3963, 'rub': 3964, 'scent': 3965, 'tipping': 3966, 'assigned': 3967, \"'group'\": 3968, 'shining': 3969, 'tony': 3970, 'stark': 3971, \"'thunderstorm\": 3972, \"sounds'\": 3973, \"'quote\": 3974, \"day'\": 3975, 'ownership': 3976, 'lucky': 3977, 'taller': 3978, 'spin': 3979, 'researching': 3980, 'setups': 3981, 'ontrac': 3982, 'suck': 3983, 'smells': 3984, 'regularly': 3985, 's8': 3986, 'cycled': 3987, 'industry': 3988, 'continues': 3989, 'roll': 3990, 'em': 3991, 'grace': 3992, 'amplifier': 3993, 'driving': 3994, 'snell': 3995, 'clapper': 3996, \"'wake\": 3997, \"light'\": 3998, 'ceilings': 3999, 'smartthings': 4000, 'eq': 4001, 'consistently': 4002, 'hmmm': 4003, 'senior': 4004, 'citizens': 4005, 'mobility': 4006, 'comments': 4007, 'sibling': 4008, 'versus': 4009, '“oh': 4010, 'technology”': 4011, '❤️❤️': 4012, 'commanded': 4013, 'lifetime': 4014, 'approaching': 4015, '40': 4016, '000': 4017, 'hundreds': 4018, 'thousands': 4019, 'approximately': 4020, '600': 4021, 'subpar': 4022, 'rarity': 4023, 'discourage': 4024, 'investing': 4025, 'ecosystem': 4026, 'holy': 4027, 'batman': 4028, 'jams': 4029, 'insanely': 4030, 'incorporated': 4031, 'dates': 4032, 'science': 4033, 'core': 4034, 'reminding': 4035, 'equalized': 4036, 'length': 4037, 'vacuum': 4038, 'replying': 4039, 'hassel': 4040, \"daughter's\": 4041, 'unsettling': 4042, 'repeats': 4043, 'obtrusive': 4044, 'coordinator': 4045, 'gameshow': 4046, 'orientation': 4047, 'engage': 4048, 'trainees': 4049, \"they're\": 4050, 'success': 4051, 'classes': 4052, 'filling': 4053, 'logitech': 4054, 'harmony': 4055, 'denon': 4056, 'av': 4057, 'receivers': 4058, \"amazon't\": 4059, 'consulting': 4060, 'sincerely': 4061, 'smartthing': 4062, 'transferring': 4063, '“wake”': 4064, 'initiate': 4065, 'zzzz': 4066, 'ideal': 4067, 'rebooting': 4068, 'attachment': 4069, 'loose': 4070, 'guilty': 4071, 'assume': 4072, 'oldest': 4073, 'mirroring': 4074, 'ummm': 4075, 'sever': 4076, 'agreement': 4077, 'expires': 4078, 'headphone': 4079, 'faster': 4080, 'darn': 4081, 'addons': 4082, 'lagging': 4083, 'confident': 4084, 'resemption': 4085, 'downfall': 4086, 'subscriptions': 4087, 'funciona': 4088, 'genial': 4089, 'june': 4090, 'crunchyroll': 4091, 'pep': 4092, 'overcoming': 4093, 'switching': 4094, 'programming': 4095, 'simplify': 4096, 'alexus': 4097, 'bet': 4098, 'doubtful': 4099, 'pluto': 4100, 'tubi': 4101, 'lyric': 4102, 'programing': 4103, 'supplied': 4104, 'mounted': 4105, 'platforms': 4106, 'vudu': 4107, 'voltage': 4108, 'typically': 4109, 'quiet': 4110, 'relay': 4111, 'canceling': 4112, 'satellite': 4113, 'alexis': 4114, 'bettter': 4115, 'relatively': 4116, 'fill': 4117, 'gap': 4118, 'ethernet': 4119, 'speeds': 4120, 'hiccups': 4121, 'ridiculously': 4122, 'prices': 4123, '50': 4124, '1gb': 4125, '8gb': 4126, 'storage': 4127, 'downloading': 4128, 'upcoming': 4129, 'includes': 4130, 'nfl': 4131, 'troublesome': 4132, 'remains': 4133, 'electricity': 4134, 'luckily': 4135, 'directtv': 4136, 'woohoo': 4137, 'snap': 4138, 'feeling': 4139, 'inspired': 4140, 'gateway': 4141, 'typing': 4142, 'clips': 4143, '⭐⭐⭐⭐⭐': 4144, \"70's\": 4145, 'opportunity': 4146, 'mi': 4147, 'similar': 4148, 'evening': 4149, 'season': 4150, 'bloods': 4151, '❤': 4152, 'csi': 4153, 'miami': 4154, '😥': 4155, 'optimum': 4156, 'suffolk': 4157, 'county': 4158, 'lovee': 4159, 'evrything': 4160, 'hahahaha': 4161, 'addicts': 4162, 'amazin': 4163, 'alots': 4164, 'traditional': 4165, '1rst': 4166, 'crashes': 4167, 'buffer': 4168, 'budget': 4169, 'maneuver': 4170, 'activation': 4171, 'ditched': 4172, \"menu''s\": 4173, 'unhappy': 4174, 'roku’s': 4175, 'errors': 4176, 'crashing': 4177, 'nd': 4178, '😏': 4179, 'endless': 4180, '100x': 4181, 'existent': 4182, 'sry': 4183, 'allowed': 4184, 'officially': 4185, 'hdm1': 4186, 'bob': 4187, 'dylan’s': 4188, 'xbox': 4189, 'interruption': 4190, 'rewards': 4191, 'drive': 4192, 'singley': 4193, 'entry': 4194, '“inactivity”': 4195, 'shouldn’t': 4196, '“wake': 4197, 'up”': 4198, 'finish': 4199, 'arguments': 4200, 'logo': 4201, 'younger': 4202, 'ditch': 4203, 'charmed': 4204, 'forjust': 4205, 'clocking': 4206, '300': 4207, 'mb': 4208, 'mandatory': 4209, 'final': 4210, 'upload': 4211, 'charlotte': 4212, 'nc': 4213, 'pur': 4214, 'nbc': 4215, 'abc': 4216, 'discounts': 4217, 'oriented': 4218, 'looses': 4219, 'closer': 4220, 'rare': 4221, 'occasion': 4222, 'thete': 4223, 'cave': 4224, 'las': 4225, 'películas': 4226, 'tiene': 4227, 'pueden': 4228, 'cambiar': 4229, 'títulos': 4230, 'element': 4231, 'maddening': 4232, 'disconnections': 4233, 'inclusive': 4234, 'hdmi': 4235, 'ni': 4236, 'hbo': 4237, 'showtime': 4238, 'onetime': 4239, 'procedure': 4240, 'tge': 4241, 'hauler': 4242, 'commercials': 4243, 'livingroom': 4244, 'semi': 4245, 'reviewing': 4246, 'factory': 4247, 'abd': 4248, 'scratch': 4249, 'traveling': 4250, '😄😄': 4251, 'ban': 4252, 'installs': 4253, 'spaces': 4254}\n"
     ]
    }
   ],
   "source": [
    "print(tokenizer.word_index)"
   ]
  },
  {
   "cell_type": "code",
   "execution_count": 58,
   "id": "eb82b8ed",
   "metadata": {},
   "outputs": [
    {
     "name": "stdout",
     "output_type": "stream",
     "text": [
      "Love my Echo!\n",
      "[10, 7, 11]\n"
     ]
    }
   ],
   "source": [
    "print(amazon_alexa[0])\n",
    "print(encoded_docs[0])"
   ]
  },
  {
   "cell_type": "code",
   "execution_count": 59,
   "id": "427ff188",
   "metadata": {},
   "outputs": [
    {
     "name": "stdout",
     "output_type": "stream",
     "text": [
      "[ 0  0  0  0  0  0  0  0  0  0  0  0  0  0  0  0  0 10  7 11]\n"
     ]
    }
   ],
   "source": [
    "print(padded_sequence[0])"
   ]
  },
  {
   "cell_type": "code",
   "execution_count": 60,
   "id": "938a50d1",
   "metadata": {},
   "outputs": [
    {
     "name": "stdout",
     "output_type": "stream",
     "text": [
      "Model: \"sequential\"\n",
      "_________________________________________________________________\n",
      "Layer (type)                 Output Shape              Param #   \n",
      "=================================================================\n",
      "embedding (Embedding)        (None, 200, 32)           136160    \n",
      "_________________________________________________________________\n",
      "spatial_dropout1d (SpatialDr (None, 200, 32)           0         \n",
      "_________________________________________________________________\n",
      "lstm (LSTM)                  (None, 50)                16600     \n",
      "_________________________________________________________________\n",
      "dropout (Dropout)            (None, 50)                0         \n",
      "_________________________________________________________________\n",
      "dense (Dense)                (None, 1)                 51        \n",
      "=================================================================\n",
      "Total params: 152,811\n",
      "Trainable params: 152,811\n",
      "Non-trainable params: 0\n",
      "_________________________________________________________________\n",
      "None\n"
     ]
    }
   ],
   "source": [
    "embedding_vector_length = 32\n",
    "model = Sequential() \n",
    "model.add(Embedding(vocab_size, embedding_vector_length, input_length=200) )\n",
    "model.add(SpatialDropout1D(0.25))\n",
    "model.add(LSTM(50, dropout=0.5, recurrent_dropout=0.5))\n",
    "model.add(Dropout(0.2))\n",
    "model.add(Dense(1, activation='sigmoid')) \n",
    "model.compile(loss='binary_crossentropy',optimizer='adam', metrics=['accuracy'])  \n",
    "print(model.summary()) "
   ]
  },
  {
   "cell_type": "code",
   "execution_count": 61,
   "id": "ab82873c",
   "metadata": {},
   "outputs": [
    {
     "name": "stdout",
     "output_type": "stream",
     "text": [
      "Epoch 1/5\n",
      "WARNING:tensorflow:Model was constructed with shape (None, 200) for input KerasTensor(type_spec=TensorSpec(shape=(None, 200), dtype=tf.float32, name='embedding_input'), name='embedding_input', description=\"created by layer 'embedding_input'\"), but it was called on an input with incompatible shape (None, 20).\n",
      "WARNING:tensorflow:Model was constructed with shape (None, 200) for input KerasTensor(type_spec=TensorSpec(shape=(None, 200), dtype=tf.float32, name='embedding_input'), name='embedding_input', description=\"created by layer 'embedding_input'\"), but it was called on an input with incompatible shape (None, 20).\n",
      "79/79 [==============================] - ETA: 0s - loss: 0.6551 - accuracy: 0.3159WARNING:tensorflow:Model was constructed with shape (None, 200) for input KerasTensor(type_spec=TensorSpec(shape=(None, 200), dtype=tf.float32, name='embedding_input'), name='embedding_input', description=\"created by layer 'embedding_input'\"), but it was called on an input with incompatible shape (None, 20).\n",
      "79/79 [==============================] - 6s 21ms/step - loss: 0.6551 - accuracy: 0.3159 - val_loss: 0.6544 - val_accuracy: 0.5587\n",
      "Epoch 2/5\n",
      "79/79 [==============================] - 1s 14ms/step - loss: 0.0938 - accuracy: 0.6341 - val_loss: -0.1545 - val_accuracy: 0.7063\n",
      "Epoch 3/5\n",
      "79/79 [==============================] - 1s 13ms/step - loss: -0.9424 - accuracy: 0.6933 - val_loss: -0.5651 - val_accuracy: 0.6492\n",
      "Epoch 4/5\n",
      "79/79 [==============================] - 1s 13ms/step - loss: -1.9785 - accuracy: 0.7028 - val_loss: -0.5949 - val_accuracy: 0.6937\n",
      "Epoch 5/5\n",
      "79/79 [==============================] - 1s 14ms/step - loss: -3.3154 - accuracy: 0.7345 - val_loss: -1.2563 - val_accuracy: 0.5857\n"
     ]
    }
   ],
   "source": [
    "history = model.fit(padded_sequence,sentiment_label[0],validation_split=0.2, epochs=5, batch_size=32)"
   ]
  },
  {
   "cell_type": "code",
   "execution_count": 62,
   "id": "747e93bf",
   "metadata": {},
   "outputs": [
    {
     "data": {
      "image/png": "[encoded data removed]",
      "text/plain": [
       "<Figure size 432x288 with 1 Axes>"
      ]
     },
     "metadata": {
      "needs_background": "light"
     },
     "output_type": "display_data"
    },
    {
     "data": {
      "text/plain": [
       "<Figure size 432x288 with 0 Axes>"
      ]
     },
     "metadata": {},
     "output_type": "display_data"
    }
   ],
   "source": [
    "plt.plot(history.history['accuracy'], label='acc')\n",
    "plt.plot(history.history['val_accuracy'], label='val_acc')\n",
    "plt.legend()\n",
    "plt.show()\n",
    "plt.savefig(\"Accuracy plot.jpg\")"
   ]
  },
  {
   "cell_type": "code",
   "execution_count": 63,
   "id": "e6850556",
   "metadata": {},
   "outputs": [
    {
     "data": {
      "image/png": "[encoded data removed]",
      "text/plain": [
       "<Figure size 432x288 with 1 Axes>"
      ]
     },
     "metadata": {
      "needs_background": "light"
     },
     "output_type": "display_data"
    },
    {
     "data": {
      "text/plain": [
       "<Figure size 432x288 with 0 Axes>"
      ]
     },
     "metadata": {},
     "output_type": "display_data"
    }
   ],
   "source": [
    "plt.plot(history.history['loss'], label='loss')\n",
    "plt.plot(history.history['val_loss'], label='val_loss')\n",
    "plt.legend()\n",
    "plt.show()\n",
    "plt.savefig(\"Loss plot.jpg\")"
   ]
  },
  {
   "cell_type": "code",
   "execution_count": 64,
   "id": "b8691038",
   "metadata": {},
   "outputs": [],
   "source": [
    "def predict_sentiment(text):\n",
    "    tw = tokenizer.texts_to_sequences([text])\n",
    "    tw = pad_sequences(tw,maxlen=200)\n",
    "    prediction = int(model.predict(tw).round().item())\n",
    "    print(\"Predicted label: \", sentiment_label[1][prediction])"
   ]
  },
  {
   "cell_type": "code",
   "execution_count": 65,
   "id": "a8318f8a",
   "metadata": {},
   "outputs": [
    {
     "name": "stdout",
     "output_type": "stream",
     "text": [
      "Predicted label:  4\n",
      "Predicted label:  4\n"
     ]
    }
   ],
   "source": [
    "test_sentence1 = \"Love my Echo!.\"\n",
    "predict_sentiment(test_sentence1)\n",
    "\n",
    "test_sentence2 = \"Without having a cellphone, I cannot use many!\"\n",
    "predict_sentiment(test_sentence2)"
   ]
  },
  {
   "cell_type": "code",
   "execution_count": null,
   "id": "f728f39b",
   "metadata": {},
   "outputs": [],
   "source": []
  }
 ],
 "metadata": {
  "kernelspec": {
   "display_name": "Python 3",
   "language": "python",
   "name": "python3"
  },
  "language_info": {
   "codemirror_mode": {
    "name": "ipython",
    "version": 3
   },
   "file_extension": ".py",
   "mimetype": "text/x-python",
   "name": "python",
   "nbconvert_exporter": "python",
   "pygments_lexer": "ipython3",
   "version": "3.8.8"
  }
 },
 "nbformat": 4,
 "nbformat_minor": 5
}
